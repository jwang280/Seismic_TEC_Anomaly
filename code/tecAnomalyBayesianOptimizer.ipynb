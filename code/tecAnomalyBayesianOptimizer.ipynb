{
 "cells": [
  {
   "cell_type": "code",
   "execution_count": 24,
   "metadata": {
    "executionInfo": {
     "elapsed": 2571,
     "status": "ok",
     "timestamp": 1611704612887,
     "user": {
      "displayName": "Jay Wang",
      "photoUrl": "",
      "userId": "08806282010227278078"
     },
     "user_tz": -780
    },
    "id": "GoKRT1nAkT4X"
   },
   "outputs": [],
   "source": [
    "%matplotlib inline\n",
    "%config InlineBackend.figure_format = 'retina'\n",
    "import matplotlib.pyplot as plt\n",
    "import pandas as pd\n",
    "import os\n",
    "from datetime import datetime\n",
    "\n",
    "import numpy as np\n",
    "import seaborn as sns\n",
    "import warnings\n",
    "\n",
    "warnings.filterwarnings('ignore')\n",
    "pd.options.display.float_format = '{:,.2f}'.format\n",
    "pd.set_option('display.max_rows', 100)\n",
    "pd.set_option('display.max_columns', 200)\n",
    "\n",
    "from __future__ import print_function\n",
    "from datetime import datetime\n",
    "from matplotlib.colors import ListedColormap\n",
    "from sklearn.metrics import confusion_matrix, classification_report, mean_squared_error, mean_absolute_error, r2_score\n",
    "from sklearn.utils import shuffle\n",
    "#from keras.models import Sequential, Model\n",
    "#from keras.layers import Dense, Dropout, BatchNormalization, Activation, Conv2D, MaxPooling2D, Flatten, ConvLSTM2D, MaxPooling3D, Reshape, LSTM\n",
    "from keras.optimizers import *\n",
    "#from keras.callbacks import EarlyStopping\n",
    "#from keras.utils.np_utils import to_categorical\n",
    "#from sklearn.preprocessing import StandardScaler, LabelEncoder, OneHotEncoder, MinMaxScaler\n",
    "from sklearn.model_selection import train_test_split, cross_val_score, StratifiedKFold, KFold\n",
    "import keras.backend as K\n",
    "from keras.wrappers.scikit_learn import KerasClassifier\n",
    "\n",
    "from tensorflow.keras.models import Sequential, Model\n",
    "from tensorflow.keras.layers import Input, Dense, Dropout, BatchNormalization, Activation, MaxPooling2D, Flatten, MaxPooling3D, Reshape, LSTM\n",
    "from tensorflow.keras.layers import ConvLSTM2D # problems with _long_ sequences: https://machinelearningmastery.com/prepare-univariate-time-series-data-long-short-term-memory-networks/\n",
    "#from tensorflow.keras.utils import plot_model\n",
    "# from tensorflow.keras.layers import Conv2D # different location in Keras\n",
    "from tensorflow.keras.callbacks import History\n",
    "from tensorflow.keras.callbacks import EarlyStopping\n",
    "#from bayes_opt import BayesianOptimization\n",
    "from bayesian_optimization import BayesianOptimization\n",
    "from sklearn.model_selection import KFold\n",
    "from timeit import timeit\n",
    "from tensorflow.keras.utils import Sequence, plot_model\n",
    "from tensorflow.keras.backend import sqrt, square, mean\n",
    "import datetime\n",
    "from sklearn.preprocessing import LabelEncoder\n",
    "from collections import Counter\n",
    "from matplotlib import pyplot\n",
    "from imblearn.over_sampling import SMOTE"
   ]
  },
  {
   "cell_type": "code",
   "execution_count": 2,
   "metadata": {
    "executionInfo": {
     "elapsed": 874,
     "status": "ok",
     "timestamp": 1611704616587,
     "user": {
      "displayName": "Jay Wang",
      "photoUrl": "",
      "userId": "08806282010227278078"
     },
     "user_tz": -780
    },
    "id": "cenQn41fUBw3"
   },
   "outputs": [],
   "source": [
    "def plot_loss_accuracy(history):\n",
    "    historydf = pd.DataFrame(history.history, index=history.epoch)\n",
    "    plt.figure(figsize=(8, 6))\n",
    "    historydf.plot(ylim=(0, max(1, historydf.values.max())))\n",
    "    loss = history.history['loss'][-1]\n",
    "    acc = history.history['accuracy'][-1]\n",
    "    plt.title('Loss: %.3f, Accuracy: %.3f' % (loss, acc))"
   ]
  },
  {
   "cell_type": "code",
   "execution_count": 3,
   "metadata": {
    "executionInfo": {
     "elapsed": 853,
     "status": "ok",
     "timestamp": 1611704622016,
     "user": {
      "displayName": "Jay Wang",
      "photoUrl": "",
      "userId": "08806282010227278078"
     },
     "user_tz": -780
    },
    "id": "VPQq6mxrUwUA"
   },
   "outputs": [],
   "source": [
    "trainingDataRoot = '../TrainingData'\n",
    "#trainingFileList = [f for f in os.listdir(trainingDataRoot) if f.endswith('.npy') and os.path.isfile(os.path.join(trainingDataRoot, f))]"
   ]
  },
  {
   "cell_type": "code",
   "execution_count": 5,
   "metadata": {
    "executionInfo": {
     "elapsed": 879,
     "status": "ok",
     "timestamp": 1611704623618,
     "user": {
      "displayName": "Jay Wang",
      "photoUrl": "",
      "userId": "08806282010227278078"
     },
     "user_tz": -780
    },
    "id": "Q3xNjjnuqKh7"
   },
   "outputs": [
    {
     "data": {
      "text/plain": [
       "['2003-11-24',\n",
       " '2005-11-08',\n",
       " '2007-12-20',\n",
       " '2009-07-15',\n",
       " '2010-09-03',\n",
       " '2011-01-27',\n",
       " '2011-02-21',\n",
       " '2011-06-13',\n",
       " '2011-12-23',\n",
       " '2012-07-03',\n",
       " '2012-12-07',\n",
       " '2013-07-18',\n",
       " '2013-08-16',\n",
       " '2014-01-20',\n",
       " '2015-01-05',\n",
       " '2015-04-24',\n",
       " '2015-10-12',\n",
       " '2016-02-09',\n",
       " '2016-02-14',\n",
       " '2016-11-13',\n",
       " '2016-11-22',\n",
       " '2016-12-04',\n",
       " '2016-12-29',\n",
       " '2018-10-30',\n",
       " '2019-06-08',\n",
       " '2019-10-01']"
      ]
     },
     "execution_count": 5,
     "metadata": {},
     "output_type": "execute_result"
    }
   ],
   "source": [
    "trainingDataFolder = sorted( [ o for o in os.listdir( trainingDataRoot ) if os.path.isdir( os.path.join( trainingDataRoot, o ) )], reverse=False )\n",
    "trainingDataFolder"
   ]
  },
  {
   "cell_type": "code",
   "execution_count": 6,
   "metadata": {
    "executionInfo": {
     "elapsed": 1095,
     "status": "ok",
     "timestamp": 1611704625859,
     "user": {
      "displayName": "Jay Wang",
      "photoUrl": "",
      "userId": "08806282010227278078"
     },
     "user_tz": -780
    },
    "id": "Fky1PTfnrFso"
   },
   "outputs": [
    {
     "data": {
      "text/plain": [
       "[['2003-11-03.npy',\n",
       "  '2003-11-04.npy',\n",
       "  '2003-11-05.npy',\n",
       "  '2003-11-06.npy',\n",
       "  '2003-11-07.npy',\n",
       "  '2003-11-08.npy',\n",
       "  '2003-11-09.npy',\n",
       "  '2003-11-10.npy',\n",
       "  '2003-11-11.npy',\n",
       "  '2003-11-12.npy',\n",
       "  '2003-11-13.npy',\n",
       "  '2003-11-14.npy',\n",
       "  '2003-11-15.npy',\n",
       "  '2003-11-16.npy',\n",
       "  '2003-11-17.npy',\n",
       "  '2003-11-18.npy',\n",
       "  '2003-11-19.npy',\n",
       "  '2003-11-20.npy',\n",
       "  '2003-11-21.npy',\n",
       "  '2003-11-22.npy',\n",
       "  '2003-11-23.npy',\n",
       "  '2003-11-24.npy',\n",
       "  '2003-11-25.npy',\n",
       "  '2003-11-26.npy'],\n",
       " ['2005-10-18.npy',\n",
       "  '2005-10-19.npy',\n",
       "  '2005-10-20.npy',\n",
       "  '2005-10-21.npy',\n",
       "  '2005-10-22.npy',\n",
       "  '2005-10-23.npy',\n",
       "  '2005-10-24.npy',\n",
       "  '2005-10-25.npy',\n",
       "  '2005-10-26.npy',\n",
       "  '2005-10-27.npy',\n",
       "  '2005-10-28.npy',\n",
       "  '2005-10-29.npy',\n",
       "  '2005-10-30.npy',\n",
       "  '2005-10-31.npy',\n",
       "  '2005-11-01.npy',\n",
       "  '2005-11-02.npy',\n",
       "  '2005-11-03.npy',\n",
       "  '2005-11-04.npy',\n",
       "  '2005-11-05.npy',\n",
       "  '2005-11-06.npy',\n",
       "  '2005-11-07.npy',\n",
       "  '2005-11-08.npy',\n",
       "  '2005-11-09.npy',\n",
       "  '2005-11-10.npy'],\n",
       " ['2007-11-29.npy',\n",
       "  '2007-11-30.npy',\n",
       "  '2007-12-01.npy',\n",
       "  '2007-12-02.npy',\n",
       "  '2007-12-03.npy',\n",
       "  '2007-12-04.npy',\n",
       "  '2007-12-05.npy',\n",
       "  '2007-12-06.npy',\n",
       "  '2007-12-07.npy',\n",
       "  '2007-12-08.npy',\n",
       "  '2007-12-09.npy',\n",
       "  '2007-12-10.npy',\n",
       "  '2007-12-11.npy',\n",
       "  '2007-12-12.npy',\n",
       "  '2007-12-13.npy',\n",
       "  '2007-12-14.npy',\n",
       "  '2007-12-15.npy',\n",
       "  '2007-12-16.npy',\n",
       "  '2007-12-17.npy',\n",
       "  '2007-12-18.npy',\n",
       "  '2007-12-19.npy',\n",
       "  '2007-12-20.npy',\n",
       "  '2007-12-21.npy',\n",
       "  '2007-12-22.npy'],\n",
       " ['2009-06-24.npy',\n",
       "  '2009-06-25.npy',\n",
       "  '2009-06-26.npy',\n",
       "  '2009-06-27.npy',\n",
       "  '2009-06-28.npy',\n",
       "  '2009-06-29.npy',\n",
       "  '2009-06-30.npy',\n",
       "  '2009-07-01.npy',\n",
       "  '2009-07-02.npy',\n",
       "  '2009-07-03.npy',\n",
       "  '2009-07-04.npy',\n",
       "  '2009-07-05.npy',\n",
       "  '2009-07-06.npy',\n",
       "  '2009-07-07.npy',\n",
       "  '2009-07-08.npy',\n",
       "  '2009-07-09.npy',\n",
       "  '2009-07-10.npy',\n",
       "  '2009-07-11.npy',\n",
       "  '2009-07-12.npy',\n",
       "  '2009-07-13.npy',\n",
       "  '2009-07-14.npy',\n",
       "  '2009-07-15.npy',\n",
       "  '2009-07-16.npy',\n",
       "  '2009-07-17.npy'],\n",
       " ['2010-08-13.npy',\n",
       "  '2010-08-14.npy',\n",
       "  '2010-08-15.npy',\n",
       "  '2010-08-16.npy',\n",
       "  '2010-08-17.npy',\n",
       "  '2010-08-18.npy',\n",
       "  '2010-08-19.npy',\n",
       "  '2010-08-20.npy',\n",
       "  '2010-08-21.npy',\n",
       "  '2010-08-22.npy',\n",
       "  '2010-08-23.npy',\n",
       "  '2010-08-24.npy',\n",
       "  '2010-08-25.npy',\n",
       "  '2010-08-26.npy',\n",
       "  '2010-08-27.npy',\n",
       "  '2010-08-28.npy',\n",
       "  '2010-08-29.npy',\n",
       "  '2010-08-30.npy',\n",
       "  '2010-08-31.npy',\n",
       "  '2010-09-01.npy',\n",
       "  '2010-09-02.npy',\n",
       "  '2010-09-03.npy',\n",
       "  '2010-09-04.npy',\n",
       "  '2010-09-05.npy'],\n",
       " ['2011-01-06.npy',\n",
       "  '2011-01-07.npy',\n",
       "  '2011-01-08.npy',\n",
       "  '2011-01-09.npy',\n",
       "  '2011-01-10.npy',\n",
       "  '2011-01-11.npy',\n",
       "  '2011-01-12.npy',\n",
       "  '2011-01-13.npy',\n",
       "  '2011-01-14.npy',\n",
       "  '2011-01-15.npy',\n",
       "  '2011-01-16.npy',\n",
       "  '2011-01-17.npy',\n",
       "  '2011-01-18.npy',\n",
       "  '2011-01-19.npy',\n",
       "  '2011-01-20.npy',\n",
       "  '2011-01-21.npy',\n",
       "  '2011-01-22.npy',\n",
       "  '2011-01-23.npy',\n",
       "  '2011-01-24.npy',\n",
       "  '2011-01-25.npy',\n",
       "  '2011-01-26.npy',\n",
       "  '2011-01-27.npy',\n",
       "  '2011-01-28.npy',\n",
       "  '2011-01-29.npy'],\n",
       " ['2011-01-31.npy',\n",
       "  '2011-02-01.npy',\n",
       "  '2011-02-02.npy',\n",
       "  '2011-02-03.npy',\n",
       "  '2011-02-04.npy',\n",
       "  '2011-02-05.npy',\n",
       "  '2011-02-06.npy',\n",
       "  '2011-02-07.npy',\n",
       "  '2011-02-08.npy',\n",
       "  '2011-02-09.npy',\n",
       "  '2011-02-10.npy',\n",
       "  '2011-02-11.npy',\n",
       "  '2011-02-12.npy',\n",
       "  '2011-02-13.npy',\n",
       "  '2011-02-14.npy',\n",
       "  '2011-02-15.npy',\n",
       "  '2011-02-16.npy',\n",
       "  '2011-02-17.npy',\n",
       "  '2011-02-18.npy',\n",
       "  '2011-02-19.npy',\n",
       "  '2011-02-20.npy',\n",
       "  '2011-02-21.npy',\n",
       "  '2011-02-22.npy',\n",
       "  '2011-02-23.npy'],\n",
       " ['2011-05-23.npy',\n",
       "  '2011-05-24.npy',\n",
       "  '2011-05-25.npy',\n",
       "  '2011-05-26.npy',\n",
       "  '2011-05-27.npy',\n",
       "  '2011-05-28.npy',\n",
       "  '2011-05-29.npy',\n",
       "  '2011-05-30.npy',\n",
       "  '2011-05-31.npy',\n",
       "  '2011-06-01.npy',\n",
       "  '2011-06-02.npy',\n",
       "  '2011-06-03.npy',\n",
       "  '2011-06-04.npy',\n",
       "  '2011-06-05.npy',\n",
       "  '2011-06-06.npy',\n",
       "  '2011-06-07.npy',\n",
       "  '2011-06-08.npy',\n",
       "  '2011-06-09.npy',\n",
       "  '2011-06-10.npy',\n",
       "  '2011-06-11.npy',\n",
       "  '2011-06-12.npy',\n",
       "  '2011-06-13.npy',\n",
       "  '2011-06-14.npy',\n",
       "  '2011-06-15.npy'],\n",
       " ['2011-12-02.npy',\n",
       "  '2011-12-03.npy',\n",
       "  '2011-12-04.npy',\n",
       "  '2011-12-05.npy',\n",
       "  '2011-12-06.npy',\n",
       "  '2011-12-07.npy',\n",
       "  '2011-12-08.npy',\n",
       "  '2011-12-09.npy',\n",
       "  '2011-12-10.npy',\n",
       "  '2011-12-11.npy',\n",
       "  '2011-12-12.npy',\n",
       "  '2011-12-13.npy',\n",
       "  '2011-12-14.npy',\n",
       "  '2011-12-15.npy',\n",
       "  '2011-12-16.npy',\n",
       "  '2011-12-17.npy',\n",
       "  '2011-12-18.npy',\n",
       "  '2011-12-19.npy',\n",
       "  '2011-12-20.npy',\n",
       "  '2011-12-21.npy',\n",
       "  '2011-12-22.npy',\n",
       "  '2011-12-23.npy',\n",
       "  '2011-12-24.npy',\n",
       "  '2011-12-25.npy'],\n",
       " ['2012-06-12.npy',\n",
       "  '2012-06-13.npy',\n",
       "  '2012-06-14.npy',\n",
       "  '2012-06-15.npy',\n",
       "  '2012-06-16.npy',\n",
       "  '2012-06-17.npy',\n",
       "  '2012-06-18.npy',\n",
       "  '2012-06-19.npy',\n",
       "  '2012-06-20.npy',\n",
       "  '2012-06-21.npy',\n",
       "  '2012-06-22.npy',\n",
       "  '2012-06-23.npy',\n",
       "  '2012-06-24.npy',\n",
       "  '2012-06-25.npy',\n",
       "  '2012-06-26.npy',\n",
       "  '2012-06-27.npy',\n",
       "  '2012-06-28.npy',\n",
       "  '2012-06-29.npy',\n",
       "  '2012-06-30.npy',\n",
       "  '2012-07-01.npy',\n",
       "  '2012-07-02.npy',\n",
       "  '2012-07-03.npy',\n",
       "  '2012-07-04.npy',\n",
       "  '2012-07-05.npy'],\n",
       " ['2012-11-16.npy',\n",
       "  '2012-11-17.npy',\n",
       "  '2012-11-18.npy',\n",
       "  '2012-11-19.npy',\n",
       "  '2012-11-20.npy',\n",
       "  '2012-11-21.npy',\n",
       "  '2012-11-22.npy',\n",
       "  '2012-11-23.npy',\n",
       "  '2012-11-24.npy',\n",
       "  '2012-11-25.npy',\n",
       "  '2012-11-26.npy',\n",
       "  '2012-11-27.npy',\n",
       "  '2012-11-28.npy',\n",
       "  '2012-11-29.npy',\n",
       "  '2012-11-30.npy',\n",
       "  '2012-12-01.npy',\n",
       "  '2012-12-02.npy',\n",
       "  '2012-12-03.npy',\n",
       "  '2012-12-04.npy',\n",
       "  '2012-12-05.npy',\n",
       "  '2012-12-06.npy',\n",
       "  '2012-12-07.npy',\n",
       "  '2012-12-08.npy',\n",
       "  '2012-12-09.npy'],\n",
       " ['2013-06-27.npy',\n",
       "  '2013-06-28.npy',\n",
       "  '2013-06-29.npy',\n",
       "  '2013-06-30.npy',\n",
       "  '2013-07-01.npy',\n",
       "  '2013-07-02.npy',\n",
       "  '2013-07-03.npy',\n",
       "  '2013-07-04.npy',\n",
       "  '2013-07-05.npy',\n",
       "  '2013-07-06.npy',\n",
       "  '2013-07-07.npy',\n",
       "  '2013-07-08.npy',\n",
       "  '2013-07-09.npy',\n",
       "  '2013-07-10.npy',\n",
       "  '2013-07-11.npy',\n",
       "  '2013-07-12.npy',\n",
       "  '2013-07-13.npy',\n",
       "  '2013-07-14.npy',\n",
       "  '2013-07-15.npy',\n",
       "  '2013-07-16.npy',\n",
       "  '2013-07-17.npy',\n",
       "  '2013-07-18.npy',\n",
       "  '2013-07-19.npy',\n",
       "  '2013-07-20.npy'],\n",
       " ['2013-07-26.npy',\n",
       "  '2013-07-27.npy',\n",
       "  '2013-07-28.npy',\n",
       "  '2013-07-29.npy',\n",
       "  '2013-07-30.npy',\n",
       "  '2013-07-31.npy',\n",
       "  '2013-08-01.npy',\n",
       "  '2013-08-02.npy',\n",
       "  '2013-08-03.npy',\n",
       "  '2013-08-04.npy',\n",
       "  '2013-08-05.npy',\n",
       "  '2013-08-06.npy',\n",
       "  '2013-08-07.npy',\n",
       "  '2013-08-08.npy',\n",
       "  '2013-08-09.npy',\n",
       "  '2013-08-10.npy',\n",
       "  '2013-08-11.npy',\n",
       "  '2013-08-12.npy',\n",
       "  '2013-08-13.npy',\n",
       "  '2013-08-14.npy',\n",
       "  '2013-08-15.npy',\n",
       "  '2013-08-16.npy',\n",
       "  '2013-08-17.npy',\n",
       "  '2013-08-18.npy'],\n",
       " ['2013-12-30.npy',\n",
       "  '2013-12-31.npy',\n",
       "  '2014-01-01.npy',\n",
       "  '2014-01-02.npy',\n",
       "  '2014-01-03.npy',\n",
       "  '2014-01-04.npy',\n",
       "  '2014-01-05.npy',\n",
       "  '2014-01-06.npy',\n",
       "  '2014-01-07.npy',\n",
       "  '2014-01-08.npy',\n",
       "  '2014-01-09.npy',\n",
       "  '2014-01-10.npy',\n",
       "  '2014-01-11.npy',\n",
       "  '2014-01-12.npy',\n",
       "  '2014-01-13.npy',\n",
       "  '2014-01-14.npy',\n",
       "  '2014-01-15.npy',\n",
       "  '2014-01-16.npy',\n",
       "  '2014-01-17.npy',\n",
       "  '2014-01-18.npy',\n",
       "  '2014-01-19.npy',\n",
       "  '2014-01-20.npy',\n",
       "  '2014-01-21.npy',\n",
       "  '2014-01-22.npy'],\n",
       " ['2014-12-15.npy',\n",
       "  '2014-12-16.npy',\n",
       "  '2014-12-17.npy',\n",
       "  '2014-12-18.npy',\n",
       "  '2014-12-19.npy',\n",
       "  '2014-12-20.npy',\n",
       "  '2014-12-21.npy',\n",
       "  '2014-12-22.npy',\n",
       "  '2014-12-23.npy',\n",
       "  '2014-12-24.npy',\n",
       "  '2014-12-25.npy',\n",
       "  '2014-12-26.npy',\n",
       "  '2014-12-27.npy',\n",
       "  '2014-12-28.npy',\n",
       "  '2014-12-29.npy',\n",
       "  '2014-12-30.npy',\n",
       "  '2014-12-31.npy',\n",
       "  '2015-01-01.npy',\n",
       "  '2015-01-02.npy',\n",
       "  '2015-01-03.npy',\n",
       "  '2015-01-04.npy',\n",
       "  '2015-01-05.npy',\n",
       "  '2015-01-06.npy',\n",
       "  '2015-01-07.npy'],\n",
       " ['2015-04-03.npy',\n",
       "  '2015-04-04.npy',\n",
       "  '2015-04-05.npy',\n",
       "  '2015-04-06.npy',\n",
       "  '2015-04-07.npy',\n",
       "  '2015-04-08.npy',\n",
       "  '2015-04-09.npy',\n",
       "  '2015-04-10.npy',\n",
       "  '2015-04-11.npy',\n",
       "  '2015-04-12.npy',\n",
       "  '2015-04-13.npy',\n",
       "  '2015-04-14.npy',\n",
       "  '2015-04-15.npy',\n",
       "  '2015-04-16.npy',\n",
       "  '2015-04-17.npy',\n",
       "  '2015-04-18.npy',\n",
       "  '2015-04-19.npy',\n",
       "  '2015-04-20.npy',\n",
       "  '2015-04-21.npy',\n",
       "  '2015-04-22.npy',\n",
       "  '2015-04-23.npy',\n",
       "  '2015-04-24.npy',\n",
       "  '2015-04-25.npy',\n",
       "  '2015-04-26.npy'],\n",
       " ['2015-09-21.npy',\n",
       "  '2015-09-22.npy',\n",
       "  '2015-09-23.npy',\n",
       "  '2015-09-24.npy',\n",
       "  '2015-09-25.npy',\n",
       "  '2015-09-26.npy',\n",
       "  '2015-09-27.npy',\n",
       "  '2015-09-28.npy',\n",
       "  '2015-09-29.npy',\n",
       "  '2015-09-30.npy',\n",
       "  '2015-10-01.npy',\n",
       "  '2015-10-02.npy',\n",
       "  '2015-10-03.npy',\n",
       "  '2015-10-04.npy',\n",
       "  '2015-10-05.npy',\n",
       "  '2015-10-06.npy',\n",
       "  '2015-10-07.npy',\n",
       "  '2015-10-08.npy',\n",
       "  '2015-10-09.npy',\n",
       "  '2015-10-10.npy',\n",
       "  '2015-10-11.npy',\n",
       "  '2015-10-12.npy',\n",
       "  '2015-10-13.npy',\n",
       "  '2015-10-14.npy'],\n",
       " ['2016-01-19.npy',\n",
       "  '2016-01-20.npy',\n",
       "  '2016-01-21.npy',\n",
       "  '2016-01-22.npy',\n",
       "  '2016-01-23.npy',\n",
       "  '2016-01-24.npy',\n",
       "  '2016-01-25.npy',\n",
       "  '2016-01-26.npy',\n",
       "  '2016-01-27.npy',\n",
       "  '2016-01-28.npy',\n",
       "  '2016-01-29.npy',\n",
       "  '2016-01-30.npy',\n",
       "  '2016-01-31.npy',\n",
       "  '2016-02-01.npy',\n",
       "  '2016-02-02.npy',\n",
       "  '2016-02-03.npy',\n",
       "  '2016-02-04.npy',\n",
       "  '2016-02-05.npy',\n",
       "  '2016-02-06.npy',\n",
       "  '2016-02-07.npy',\n",
       "  '2016-02-08.npy',\n",
       "  '2016-02-09.npy',\n",
       "  '2016-02-10.npy',\n",
       "  '2016-02-11.npy'],\n",
       " ['2016-01-24.npy',\n",
       "  '2016-01-25.npy',\n",
       "  '2016-01-26.npy',\n",
       "  '2016-01-27.npy',\n",
       "  '2016-01-28.npy',\n",
       "  '2016-01-29.npy',\n",
       "  '2016-01-30.npy',\n",
       "  '2016-01-31.npy',\n",
       "  '2016-02-01.npy',\n",
       "  '2016-02-02.npy',\n",
       "  '2016-02-03.npy',\n",
       "  '2016-02-04.npy',\n",
       "  '2016-02-05.npy',\n",
       "  '2016-02-06.npy',\n",
       "  '2016-02-07.npy',\n",
       "  '2016-02-08.npy',\n",
       "  '2016-02-09.npy',\n",
       "  '2016-02-10.npy',\n",
       "  '2016-02-11.npy',\n",
       "  '2016-02-12.npy',\n",
       "  '2016-02-13.npy',\n",
       "  '2016-02-14.npy',\n",
       "  '2016-02-15.npy',\n",
       "  '2016-02-16.npy'],\n",
       " ['2016-10-23.npy',\n",
       "  '2016-10-24.npy',\n",
       "  '2016-10-25.npy',\n",
       "  '2016-10-26.npy',\n",
       "  '2016-10-27.npy',\n",
       "  '2016-10-28.npy',\n",
       "  '2016-10-29.npy',\n",
       "  '2016-10-30.npy',\n",
       "  '2016-10-31.npy',\n",
       "  '2016-11-01.npy',\n",
       "  '2016-11-02.npy',\n",
       "  '2016-11-03.npy',\n",
       "  '2016-11-04.npy',\n",
       "  '2016-11-05.npy',\n",
       "  '2016-11-06.npy',\n",
       "  '2016-11-07.npy',\n",
       "  '2016-11-08.npy',\n",
       "  '2016-11-09.npy',\n",
       "  '2016-11-10.npy',\n",
       "  '2016-11-11.npy',\n",
       "  '2016-11-12.npy',\n",
       "  '2016-11-13.npy',\n",
       "  '2016-11-14.npy',\n",
       "  '2016-11-15.npy'],\n",
       " ['2016-11-01.npy',\n",
       "  '2016-11-02.npy',\n",
       "  '2016-11-03.npy',\n",
       "  '2016-11-04.npy',\n",
       "  '2016-11-05.npy',\n",
       "  '2016-11-06.npy',\n",
       "  '2016-11-07.npy',\n",
       "  '2016-11-08.npy',\n",
       "  '2016-11-09.npy',\n",
       "  '2016-11-10.npy',\n",
       "  '2016-11-11.npy',\n",
       "  '2016-11-12.npy',\n",
       "  '2016-11-13.npy',\n",
       "  '2016-11-14.npy',\n",
       "  '2016-11-15.npy',\n",
       "  '2016-11-16.npy',\n",
       "  '2016-11-17.npy',\n",
       "  '2016-11-18.npy',\n",
       "  '2016-11-19.npy',\n",
       "  '2016-11-20.npy',\n",
       "  '2016-11-21.npy',\n",
       "  '2016-11-22.npy',\n",
       "  '2016-11-23.npy',\n",
       "  '2016-11-24.npy'],\n",
       " ['2016-11-13.npy',\n",
       "  '2016-11-14.npy',\n",
       "  '2016-11-15.npy',\n",
       "  '2016-11-16.npy',\n",
       "  '2016-11-17.npy',\n",
       "  '2016-11-18.npy',\n",
       "  '2016-11-19.npy',\n",
       "  '2016-11-20.npy',\n",
       "  '2016-11-21.npy',\n",
       "  '2016-11-22.npy',\n",
       "  '2016-11-23.npy',\n",
       "  '2016-11-24.npy',\n",
       "  '2016-11-25.npy',\n",
       "  '2016-11-26.npy',\n",
       "  '2016-11-27.npy',\n",
       "  '2016-11-28.npy',\n",
       "  '2016-11-29.npy',\n",
       "  '2016-11-30.npy',\n",
       "  '2016-12-01.npy',\n",
       "  '2016-12-02.npy',\n",
       "  '2016-12-03.npy',\n",
       "  '2016-12-04.npy',\n",
       "  '2016-12-05.npy',\n",
       "  '2016-12-06.npy'],\n",
       " ['2016-12-08.npy',\n",
       "  '2016-12-09.npy',\n",
       "  '2016-12-10.npy',\n",
       "  '2016-12-11.npy',\n",
       "  '2016-12-12.npy',\n",
       "  '2016-12-13.npy',\n",
       "  '2016-12-14.npy',\n",
       "  '2016-12-15.npy',\n",
       "  '2016-12-16.npy',\n",
       "  '2016-12-17.npy',\n",
       "  '2016-12-18.npy',\n",
       "  '2016-12-19.npy',\n",
       "  '2016-12-20.npy',\n",
       "  '2016-12-21.npy',\n",
       "  '2016-12-22.npy',\n",
       "  '2016-12-23.npy',\n",
       "  '2016-12-24.npy',\n",
       "  '2016-12-25.npy',\n",
       "  '2016-12-26.npy',\n",
       "  '2016-12-27.npy',\n",
       "  '2016-12-28.npy',\n",
       "  '2016-12-29.npy',\n",
       "  '2016-12-30.npy',\n",
       "  '2016-12-31.npy'],\n",
       " ['2018-10-05.npy',\n",
       "  '2018-10-06.npy',\n",
       "  '2018-10-08.npy',\n",
       "  '2018-10-09.npy',\n",
       "  '2018-10-10.npy',\n",
       "  '2018-10-11.npy',\n",
       "  '2018-10-12.npy',\n",
       "  '2018-10-13.npy',\n",
       "  '2018-10-15.npy',\n",
       "  '2018-10-16.npy',\n",
       "  '2018-10-17.npy',\n",
       "  '2018-10-18.npy',\n",
       "  '2018-10-19.npy',\n",
       "  '2018-10-20.npy',\n",
       "  '2018-10-22.npy',\n",
       "  '2018-10-23.npy',\n",
       "  '2018-10-24.npy',\n",
       "  '2018-10-25.npy',\n",
       "  '2018-10-26.npy',\n",
       "  '2018-10-27.npy',\n",
       "  '2018-10-29.npy',\n",
       "  '2018-10-30.npy',\n",
       "  '2018-10-31.npy',\n",
       "  '2018-11-01.npy'],\n",
       " ['2019-05-18.npy',\n",
       "  '2019-05-19.npy',\n",
       "  '2019-05-20.npy',\n",
       "  '2019-05-21.npy',\n",
       "  '2019-05-22.npy',\n",
       "  '2019-05-23.npy',\n",
       "  '2019-05-24.npy',\n",
       "  '2019-05-25.npy',\n",
       "  '2019-05-26.npy',\n",
       "  '2019-05-27.npy',\n",
       "  '2019-05-28.npy',\n",
       "  '2019-05-29.npy',\n",
       "  '2019-05-30.npy',\n",
       "  '2019-05-31.npy',\n",
       "  '2019-06-01.npy',\n",
       "  '2019-06-02.npy',\n",
       "  '2019-06-03.npy',\n",
       "  '2019-06-04.npy',\n",
       "  '2019-06-05.npy',\n",
       "  '2019-06-06.npy',\n",
       "  '2019-06-07.npy',\n",
       "  '2019-06-08.npy',\n",
       "  '2019-06-09.npy',\n",
       "  '2019-06-10.npy'],\n",
       " ['2019-09-10.npy',\n",
       "  '2019-09-11.npy',\n",
       "  '2019-09-12.npy',\n",
       "  '2019-09-13.npy',\n",
       "  '2019-09-14.npy',\n",
       "  '2019-09-15.npy',\n",
       "  '2019-09-16.npy',\n",
       "  '2019-09-17.npy',\n",
       "  '2019-09-18.npy',\n",
       "  '2019-09-19.npy',\n",
       "  '2019-09-20.npy',\n",
       "  '2019-09-21.npy',\n",
       "  '2019-09-22.npy',\n",
       "  '2019-09-23.npy',\n",
       "  '2019-09-24.npy',\n",
       "  '2019-09-25.npy',\n",
       "  '2019-09-26.npy',\n",
       "  '2019-09-27.npy',\n",
       "  '2019-09-28.npy',\n",
       "  '2019-09-29.npy',\n",
       "  '2019-09-30.npy',\n",
       "  '2019-10-01.npy',\n",
       "  '2019-10-02.npy',\n",
       "  '2019-10-03.npy']]"
      ]
     },
     "execution_count": 6,
     "metadata": {},
     "output_type": "execute_result"
    }
   ],
   "source": [
    "trainingFileList = []\n",
    "for i in trainingDataFolder:\n",
    "  dayList = []\n",
    "  for o in sorted( os.listdir(os.path.join(trainingDataRoot, i)) ):\n",
    "    if o.endswith('.npy') and os.path.isfile( os.path.join( trainingDataRoot, i, o ) ):\n",
    "      dayList.append(o)\n",
    "  trainingFileList.append(dayList)\n",
    "trainingFileList"
   ]
  },
  {
   "cell_type": "code",
   "execution_count": 10,
   "metadata": {
    "id": "0j2A_IjvhZu-"
   },
   "outputs": [
    {
     "data": {
      "text/plain": [
       "['2003-11-23',\n",
       " '2005-11-07',\n",
       " '2007-12-19',\n",
       " '2009-07-14',\n",
       " '2010-09-02',\n",
       " '2011-01-26',\n",
       " '2011-02-20',\n",
       " '2011-06-12',\n",
       " '2011-12-22',\n",
       " '2012-07-02',\n",
       " '2012-12-06',\n",
       " '2013-07-17',\n",
       " '2013-08-15',\n",
       " '2014-01-19',\n",
       " '2015-01-04',\n",
       " '2015-04-23',\n",
       " '2015-10-11',\n",
       " '2016-02-08',\n",
       " '2016-02-13',\n",
       " '2016-11-12',\n",
       " '2016-11-21',\n",
       " '2016-12-03',\n",
       " '2016-12-28',\n",
       " '2018-10-29',\n",
       " '2019-06-07',\n",
       " '2019-09-30']"
      ]
     },
     "execution_count": 10,
     "metadata": {},
     "output_type": "execute_result"
    }
   ],
   "source": [
    "oneDayList = []\n",
    "for i in trainingDataFolder:\n",
    "    oneDay = datetime.datetime.strptime( i, '%Y-%m-%d' ) + datetime.timedelta( days=-1 )\n",
    "    oneDaystr = '{:04}-{:02}-{:02}'.format( oneDay.year, oneDay.month, oneDay.day )\n",
    "    oneDayList.append(oneDaystr)\n",
    "oneDayList"
   ]
  },
  {
   "cell_type": "code",
   "execution_count": 9,
   "metadata": {
    "executionInfo": {
     "elapsed": 1015,
     "status": "ok",
     "timestamp": 1611704630240,
     "user": {
      "displayName": "Jay Wang",
      "photoUrl": "",
      "userId": "08806282010227278078"
     },
     "user_tz": -780
    },
    "id": "URWjUk7SlFlM"
   },
   "outputs": [
    {
     "data": {
      "text/plain": [
       "['2003-11-22',\n",
       " '2005-11-06',\n",
       " '2007-12-18',\n",
       " '2009-07-13',\n",
       " '2010-09-01',\n",
       " '2011-01-25',\n",
       " '2011-02-19',\n",
       " '2011-06-11',\n",
       " '2011-12-21',\n",
       " '2012-07-01',\n",
       " '2012-12-05',\n",
       " '2013-07-16',\n",
       " '2013-08-14',\n",
       " '2014-01-18',\n",
       " '2015-01-03',\n",
       " '2015-04-22',\n",
       " '2015-10-10',\n",
       " '2016-02-07',\n",
       " '2016-02-12',\n",
       " '2016-11-11',\n",
       " '2016-11-20',\n",
       " '2016-12-02',\n",
       " '2016-12-27',\n",
       " '2018-10-28',\n",
       " '2019-06-06',\n",
       " '2019-09-29']"
      ]
     },
     "execution_count": 9,
     "metadata": {},
     "output_type": "execute_result"
    }
   ],
   "source": [
    "twoDayList = []\n",
    "for i in trainingDataFolder:\n",
    "    twoDay = datetime.datetime.strptime( i, '%Y-%m-%d' ) + datetime.timedelta( days=-2 )\n",
    "    twoDaystr = '{:04}-{:02}-{:02}'.format( twoDay.year, twoDay.month, twoDay.day )\n",
    "    twoDayList.append(twoDaystr)\n",
    "twoDayList"
   ]
  },
  {
   "cell_type": "code",
   "execution_count": 97,
   "metadata": {
    "colab": {
     "base_uri": "https://localhost:8080/"
    },
    "executionInfo": {
     "elapsed": 3660,
     "status": "ok",
     "timestamp": 1611704634349,
     "user": {
      "displayName": "Jay Wang",
      "photoUrl": "",
      "userId": "08806282010227278078"
     },
     "user_tz": -780
    },
    "id": "UFBhFHZ2UpoB",
    "outputId": "d96abe91-8d49-4fa0-a9f6-153350645edd"
   },
   "outputs": [
    {
     "name": "stdout",
     "output_type": "stream",
     "text": [
      "(390, 10, 50, 50, 3)\n",
      "(390,)\n"
     ]
    }
   ],
   "source": [
    "trainingData = []\n",
    "trainingLabel = []\n",
    "for i, j in enumerate( trainingDataFolder ):\n",
    "  for m in range( len( trainingFileList[i] ) - 9 ):\n",
    "    sequenceData = []\n",
    "    validateData = []\n",
    "    for n in range ( 10 ):\n",
    "      with open( os.path.join(trainingDataRoot, j, trainingFileList[i][m +n] ), 'rb' ) as f:\n",
    "        sequenceData.append( list( np.load( f ) ) )\n",
    "        validateData.append(os.path.splitext( trainingFileList[i][m +n] )[0] )\n",
    "        #print( f'validateData:{validateData} {i, m +n}' )\n",
    "    trainingData.append( sequenceData )\n",
    "    if validateData[-1] in trainingDataFolder:\n",
    "      trainingLabel.append( 0.4 )\n",
    "    elif validateData[-1] in oneDayList or validateData[-2] in trainingDataFolder:\n",
    "      trainingLabel.append( 0.25 )\n",
    "    elif validateData[-1] in twoDayList or validateData[-3] in trainingDataFolder:\n",
    "      trainingLabel.append( 0.05 )\n",
    "    else:\n",
    "      trainingLabel.append(0)\n",
    "train_X = np.array( trainingData, dtype=np.float32 )\n",
    "print( train_X.shape )\n",
    "train_y = np.array( trainingLabel, dtype=np.float32 )\n",
    "print( train_y.shape )"
   ]
  },
  {
   "cell_type": "code",
   "execution_count": 98,
   "metadata": {
    "colab": {
     "base_uri": "https://localhost:8080/"
    },
    "executionInfo": {
     "elapsed": 855,
     "status": "ok",
     "timestamp": 1611704644148,
     "user": {
      "displayName": "Jay Wang",
      "photoUrl": "",
      "userId": "08806282010227278078"
     },
     "user_tz": -780
    },
    "id": "LbqigABI-04v",
    "outputId": "82334a7e-d7a6-44dc-ae72-c6eed29303d3"
   },
   "outputs": [
    {
     "data": {
      "text/plain": [
       "array([0.  , 0.  , 0.  , 0.  , 0.  , 0.  , 0.  , 0.  , 0.  , 0.  , 0.05,\n",
       "       0.25, 0.4 , 0.25, 0.05, 0.  , 0.  , 0.  , 0.  , 0.  , 0.  , 0.  ,\n",
       "       0.  , 0.  , 0.  , 0.05, 0.25, 0.4 , 0.25, 0.05, 0.  , 0.  , 0.  ,\n",
       "       0.  , 0.  , 0.  , 0.  , 0.  , 0.  , 0.  , 0.05, 0.25, 0.4 , 0.25,\n",
       "       0.05, 0.  , 0.  , 0.  , 0.  , 0.  , 0.  , 0.  , 0.  , 0.  , 0.  ,\n",
       "       0.05, 0.25, 0.4 , 0.25, 0.05, 0.  , 0.  , 0.  , 0.  , 0.  , 0.  ,\n",
       "       0.  , 0.  , 0.  , 0.  , 0.05, 0.25, 0.4 , 0.25, 0.05, 0.  , 0.  ,\n",
       "       0.  , 0.  , 0.  , 0.  , 0.  , 0.  , 0.  , 0.  , 0.05, 0.25, 0.4 ,\n",
       "       0.25, 0.05, 0.  , 0.  , 0.  , 0.  , 0.  , 0.  , 0.  , 0.  , 0.  ,\n",
       "       0.  , 0.05, 0.25, 0.4 , 0.25, 0.05, 0.  , 0.  , 0.  , 0.  , 0.  ,\n",
       "       0.  , 0.  , 0.  , 0.  , 0.  , 0.05, 0.25, 0.4 , 0.25, 0.05, 0.  ,\n",
       "       0.  , 0.  , 0.  , 0.  , 0.  , 0.  , 0.  , 0.  , 0.  , 0.05, 0.25,\n",
       "       0.4 , 0.25, 0.05, 0.  , 0.  , 0.  , 0.  , 0.  , 0.  , 0.  , 0.  ,\n",
       "       0.  , 0.  , 0.05, 0.25, 0.4 , 0.25, 0.05, 0.  , 0.  , 0.  , 0.  ,\n",
       "       0.  , 0.  , 0.  , 0.  , 0.  , 0.  , 0.05, 0.25, 0.4 , 0.25, 0.05,\n",
       "       0.  , 0.  , 0.  , 0.  , 0.  , 0.  , 0.  , 0.  , 0.  , 0.  , 0.05,\n",
       "       0.25, 0.4 , 0.25, 0.05, 0.  , 0.  , 0.  , 0.  , 0.  , 0.  , 0.  ,\n",
       "       0.  , 0.  , 0.  , 0.05, 0.25, 0.4 , 0.25, 0.05, 0.  , 0.  , 0.  ,\n",
       "       0.  , 0.  , 0.  , 0.  , 0.  , 0.  , 0.  , 0.05, 0.25, 0.4 , 0.25,\n",
       "       0.05, 0.  , 0.  , 0.  , 0.  , 0.  , 0.  , 0.  , 0.  , 0.  , 0.  ,\n",
       "       0.05, 0.25, 0.4 , 0.25, 0.05, 0.  , 0.  , 0.  , 0.  , 0.  , 0.  ,\n",
       "       0.  , 0.  , 0.  , 0.  , 0.05, 0.25, 0.4 , 0.25, 0.05, 0.  , 0.  ,\n",
       "       0.  , 0.  , 0.  , 0.  , 0.  , 0.  , 0.  , 0.  , 0.05, 0.25, 0.4 ,\n",
       "       0.25, 0.05, 0.  , 0.  , 0.  , 0.  , 0.  , 0.  , 0.  , 0.  , 0.  ,\n",
       "       0.  , 0.05, 0.25, 0.4 , 0.25, 0.05, 0.  , 0.  , 0.  , 0.  , 0.  ,\n",
       "       0.05, 0.25, 0.4 , 0.25, 0.05, 0.05, 0.25, 0.4 , 0.25, 0.05, 0.  ,\n",
       "       0.  , 0.  , 0.  , 0.  , 0.  , 0.  , 0.  , 0.  , 0.  , 0.05, 0.25,\n",
       "       0.4 , 0.25, 0.05, 0.  , 0.05, 0.25, 0.4 , 0.25, 0.05, 0.  , 0.  ,\n",
       "       0.  , 0.  , 0.05, 0.25, 0.4 , 0.25, 0.05, 0.4 , 0.25, 0.05, 0.  ,\n",
       "       0.  , 0.  , 0.  , 0.  , 0.  , 0.  , 0.05, 0.25, 0.4 , 0.25, 0.05,\n",
       "       0.  , 0.  , 0.  , 0.  , 0.  , 0.  , 0.  , 0.  , 0.  , 0.  , 0.05,\n",
       "       0.25, 0.4 , 0.25, 0.05, 0.  , 0.  , 0.  , 0.  , 0.  , 0.  , 0.  ,\n",
       "       0.  , 0.  , 0.  , 0.  , 0.25, 0.4 , 0.25, 0.05, 0.  , 0.  , 0.  ,\n",
       "       0.  , 0.  , 0.  , 0.  , 0.  , 0.  , 0.  , 0.05, 0.25, 0.4 , 0.25,\n",
       "       0.05, 0.  , 0.  , 0.  , 0.  , 0.  , 0.  , 0.  , 0.  , 0.  , 0.  ,\n",
       "       0.05, 0.25, 0.4 , 0.25, 0.05], dtype=float32)"
      ]
     },
     "execution_count": 98,
     "metadata": {},
     "output_type": "execute_result"
    }
   ],
   "source": [
    "train_y"
   ]
  },
  {
   "cell_type": "code",
   "execution_count": 99,
   "metadata": {
    "executionInfo": {
     "elapsed": 823,
     "status": "ok",
     "timestamp": 1611704648274,
     "user": {
      "displayName": "Jay Wang",
      "photoUrl": "",
      "userId": "08806282010227278078"
     },
     "user_tz": -780
    },
    "id": "eb85ySPeVl0s"
   },
   "outputs": [],
   "source": [
    "testDataRoot = '../TestData'\n",
    "#testFileList = [f for f in os.listdir(testDataRoot) if f.endswith('.npy') and os.path.isfile(os.path.join(testDataRoot, f))]"
   ]
  },
  {
   "cell_type": "code",
   "execution_count": 100,
   "metadata": {
    "colab": {
     "base_uri": "https://localhost:8080/"
    },
    "executionInfo": {
     "elapsed": 998,
     "status": "ok",
     "timestamp": 1611704649807,
     "user": {
      "displayName": "Jay Wang",
      "photoUrl": "",
      "userId": "08806282010227278078"
     },
     "user_tz": -780
    },
    "id": "naYHLjtLAmns",
    "outputId": "5677f11c-80fa-4662-c41f-772bf2a16096"
   },
   "outputs": [
    {
     "data": {
      "text/plain": [
       "['2013-12-16', '2015-05-04', '2017-10-22']"
      ]
     },
     "execution_count": 100,
     "metadata": {},
     "output_type": "execute_result"
    }
   ],
   "source": [
    "testDataFolder = sorted( [ o for o in os.listdir( testDataRoot ) if os.path.isdir( os.path.join( testDataRoot, o ) )], reverse=False )\n",
    "testDataFolder"
   ]
  },
  {
   "cell_type": "code",
   "execution_count": 101,
   "metadata": {
    "colab": {
     "base_uri": "https://localhost:8080/"
    },
    "executionInfo": {
     "elapsed": 1087,
     "status": "ok",
     "timestamp": 1611704652050,
     "user": {
      "displayName": "Jay Wang",
      "photoUrl": "",
      "userId": "08806282010227278078"
     },
     "user_tz": -780
    },
    "id": "YI-XwBiWAOJh",
    "outputId": "b1da7c21-1e7e-46a0-d075-601793da6408"
   },
   "outputs": [
    {
     "data": {
      "text/plain": [
       "[['2013-11-25.npy',\n",
       "  '2013-11-26.npy',\n",
       "  '2013-11-27.npy',\n",
       "  '2013-11-28.npy',\n",
       "  '2013-11-29.npy',\n",
       "  '2013-11-30.npy',\n",
       "  '2013-12-01.npy',\n",
       "  '2013-12-02.npy',\n",
       "  '2013-12-03.npy',\n",
       "  '2013-12-04.npy',\n",
       "  '2013-12-05.npy',\n",
       "  '2013-12-06.npy',\n",
       "  '2013-12-07.npy',\n",
       "  '2013-12-08.npy',\n",
       "  '2013-12-09.npy',\n",
       "  '2013-12-10.npy',\n",
       "  '2013-12-11.npy',\n",
       "  '2013-12-12.npy',\n",
       "  '2013-12-13.npy',\n",
       "  '2013-12-14.npy',\n",
       "  '2013-12-15.npy',\n",
       "  '2013-12-16.npy',\n",
       "  '2013-12-17.npy',\n",
       "  '2013-12-18.npy'],\n",
       " ['2015-04-13.npy',\n",
       "  '2015-04-14.npy',\n",
       "  '2015-04-15.npy',\n",
       "  '2015-04-16.npy',\n",
       "  '2015-04-17.npy',\n",
       "  '2015-04-18.npy',\n",
       "  '2015-04-19.npy',\n",
       "  '2015-04-20.npy',\n",
       "  '2015-04-21.npy',\n",
       "  '2015-04-22.npy',\n",
       "  '2015-04-23.npy',\n",
       "  '2015-04-24.npy',\n",
       "  '2015-04-25.npy',\n",
       "  '2015-04-26.npy',\n",
       "  '2015-04-27.npy',\n",
       "  '2015-04-28.npy',\n",
       "  '2015-04-29.npy',\n",
       "  '2015-04-30.npy',\n",
       "  '2015-05-01.npy',\n",
       "  '2015-05-02.npy',\n",
       "  '2015-05-03.npy',\n",
       "  '2015-05-04.npy',\n",
       "  '2015-05-05.npy',\n",
       "  '2015-05-06.npy'],\n",
       " ['2017-10-01.npy',\n",
       "  '2017-10-02.npy',\n",
       "  '2017-10-03.npy',\n",
       "  '2017-10-04.npy',\n",
       "  '2017-10-05.npy',\n",
       "  '2017-10-06.npy',\n",
       "  '2017-10-07.npy',\n",
       "  '2017-10-08.npy',\n",
       "  '2017-10-09.npy',\n",
       "  '2017-10-10.npy',\n",
       "  '2017-10-11.npy',\n",
       "  '2017-10-12.npy',\n",
       "  '2017-10-13.npy',\n",
       "  '2017-10-14.npy',\n",
       "  '2017-10-15.npy',\n",
       "  '2017-10-16.npy',\n",
       "  '2017-10-17.npy',\n",
       "  '2017-10-18.npy',\n",
       "  '2017-10-19.npy',\n",
       "  '2017-10-20.npy',\n",
       "  '2017-10-21.npy',\n",
       "  '2017-10-22.npy',\n",
       "  '2017-10-23.npy',\n",
       "  '2017-10-24.npy']]"
      ]
     },
     "execution_count": 101,
     "metadata": {},
     "output_type": "execute_result"
    }
   ],
   "source": [
    "testFileList = []\n",
    "for i in testDataFolder:\n",
    "  dayList = []\n",
    "  for o in sorted( os.listdir( os.path.join(testDataRoot, i ) ) ):\n",
    "    if o.endswith( '.npy' ) and os.path.isfile( os.path.join( testDataRoot, i, o ) ):\n",
    "      dayList.append( o )\n",
    "  testFileList.append( dayList )\n",
    "testFileList"
   ]
  },
  {
   "cell_type": "code",
   "execution_count": 102,
   "metadata": {
    "colab": {
     "base_uri": "https://localhost:8080/"
    },
    "executionInfo": {
     "elapsed": 1218,
     "status": "ok",
     "timestamp": 1611704656481,
     "user": {
      "displayName": "Jay Wang",
      "photoUrl": "",
      "userId": "08806282010227278078"
     },
     "user_tz": -780
    },
    "id": "AZgujQHBd26-",
    "outputId": "cca41226-b074-466a-cdf3-a4d742ea047d"
   },
   "outputs": [
    {
     "name": "stdout",
     "output_type": "stream",
     "text": [
      "(45, 10, 50, 50, 3)\n",
      "(45,)\n"
     ]
    }
   ],
   "source": [
    "testData = []\n",
    "testLabel = []\n",
    "for i, j in enumerate( testDataFolder ):\n",
    "  for m in range( len( testFileList[i] ) - 9 ):\n",
    "    sequenceData = []\n",
    "    validateData = []\n",
    "    for n in range ( 10 ):\n",
    "      with open( os.path.join( testDataRoot, j, testFileList[i][m +n] ), 'rb') as f:\n",
    "        sequenceData.append( list( np.load( f ) ) )\n",
    "        validateData.append( os.path.splitext( testFileList[i][m +n] )[0] )\n",
    "        #print( f'validateData:{validateData} {i, m +n}' )\n",
    "    testData.append( sequenceData )\n",
    "    twoDay = datetime.datetime.strptime( j, '%Y-%m-%d' ) + datetime.timedelta( days=-2 )\n",
    "    twoDaystr = '{:04}-{:02}-{:02}'.format( twoDay.year, twoDay.month, twoDay.day )\n",
    "    oneDay = datetime.datetime.strptime( j, '%Y-%m-%d' ) + datetime.timedelta( days=-1 )\n",
    "    oneDaystr = '{:04}-{:02}-{:02}'.format( oneDay.year, oneDay.month, oneDay.day )\n",
    "    if validateData[-1] == j:\n",
    "      testLabel.append( 0.4 )\n",
    "    elif validateData[-1] == twoDaystr or validateData[-3] == j:\n",
    "      testLabel.append( 0.05 )\n",
    "    elif validateData[-1] == oneDaystr or validateData[-2] == j:\n",
    "      testLabel.append( 0.25 )\n",
    "    else:\n",
    "      testLabel.append(0)\n",
    "test_X = np.array( testData, dtype=np.float32 )\n",
    "print( test_X.shape )\n",
    "test_y = np.array( testLabel, dtype=np.float32 )\n",
    "print( test_y.shape )"
   ]
  },
  {
   "cell_type": "code",
   "execution_count": 103,
   "metadata": {
    "colab": {
     "base_uri": "https://localhost:8080/"
    },
    "executionInfo": {
     "elapsed": 842,
     "status": "ok",
     "timestamp": 1611704659938,
     "user": {
      "displayName": "Jay Wang",
      "photoUrl": "",
      "userId": "08806282010227278078"
     },
     "user_tz": -780
    },
    "id": "I2evj6rN-ETD",
    "outputId": "4f6b733b-582d-416f-e3a1-4cff354f46bc"
   },
   "outputs": [
    {
     "data": {
      "text/plain": [
       "array([0.  , 0.  , 0.  , 0.  , 0.  , 0.  , 0.  , 0.  , 0.  , 0.  , 0.05,\n",
       "       0.25, 0.4 , 0.25, 0.05, 0.  , 0.  , 0.  , 0.  , 0.  , 0.  , 0.  ,\n",
       "       0.  , 0.  , 0.  , 0.05, 0.25, 0.4 , 0.25, 0.05, 0.  , 0.  , 0.  ,\n",
       "       0.  , 0.  , 0.  , 0.  , 0.  , 0.  , 0.  , 0.05, 0.25, 0.4 , 0.25,\n",
       "       0.05], dtype=float32)"
      ]
     },
     "execution_count": 103,
     "metadata": {},
     "output_type": "execute_result"
    }
   ],
   "source": [
    "test_y"
   ]
  },
  {
   "cell_type": "code",
   "execution_count": 104,
   "metadata": {},
   "outputs": [
    {
     "name": "stdout",
     "output_type": "stream",
     "text": [
      "Class=0, n=248 (63.590%)\n",
      "Class=1, n=56 (14.359%)\n",
      "Class=2, n=57 (14.615%)\n",
      "Class=3, n=29 (7.436%)\n"
     ]
    },
    {
     "data": {
      "image/png": "[encoded data removed]",
      "text/plain": [
       "<Figure size 432x288 with 1 Axes>"
      ]
     },
     "metadata": {
      "image/png": {
       "height": 248,
       "width": 376
      },
      "needs_background": "light"
     },
     "output_type": "display_data"
    }
   ],
   "source": [
    "# label encode the target variable\n",
    "y = LabelEncoder().fit_transform(train_y)\n",
    "# summarize distribution\n",
    "counter = Counter(y)\n",
    "for k,v in counter.items():\n",
    "    per = v / len(y) * 100\n",
    "    print('Class=%d, n=%d (%.3f%%)' % (k, v, per))\n",
    "# plot the distribution\n",
    "pyplot.bar(counter.keys(), counter.values())\n",
    "pyplot.show()"
   ]
  },
  {
   "cell_type": "code",
   "execution_count": 105,
   "metadata": {},
   "outputs": [
    {
     "name": "stdout",
     "output_type": "stream",
     "text": [
      "(390, 10, 50, 50, 3)\n"
     ]
    }
   ],
   "source": [
    "orig_shape = train_X.shape\n",
    "print(orig_shape)"
   ]
  },
  {
   "cell_type": "code",
   "execution_count": 106,
   "metadata": {},
   "outputs": [
    {
     "name": "stdout",
     "output_type": "stream",
     "text": [
      "(390, 75000)\n"
     ]
    }
   ],
   "source": [
    "train2D_X = np.reshape(train_X, (train_X.shape[0], train_X.shape[1] * train_X.shape[2] * train_X.shape[3] * train_X.shape[4]))\n",
    "print(train2D_X.shape)"
   ]
  },
  {
   "cell_type": "code",
   "execution_count": 107,
   "metadata": {},
   "outputs": [
    {
     "name": "stdout",
     "output_type": "stream",
     "text": [
      "Class=0, n=248 (25.000%)\n",
      "Class=1, n=248 (25.000%)\n",
      "Class=2, n=248 (25.000%)\n",
      "Class=3, n=248 (25.000%)\n"
     ]
    },
    {
     "data": {
      "image/png": "[encoded data removed]",
      "text/plain": [
       "<Figure size 432x288 with 1 Axes>"
      ]
     },
     "metadata": {
      "image/png": {
       "height": 248,
       "width": 376
      },
      "needs_background": "light"
     },
     "output_type": "display_data"
    }
   ],
   "source": [
    "from imblearn.over_sampling import SMOTE\n",
    "# label encode the target variable\n",
    "y = LabelEncoder().fit_transform(train_y)\n",
    "# transform the dataset\n",
    "oversample = SMOTE()\n",
    "new_train_X, new_train_y = oversample.fit_resample(train2D_X, y)\n",
    "# summarize distribution\n",
    "counter = Counter(new_train_y)\n",
    "for k,v in counter.items():\n",
    "    per = v / len(new_train_y) * 100\n",
    "    print('Class=%d, n=%d (%.3f%%)' % (k, v, per))\n",
    "# plot the distribution\n",
    "pyplot.bar(counter.keys(), counter.values())\n",
    "pyplot.show()"
   ]
  },
  {
   "cell_type": "code",
   "execution_count": 108,
   "metadata": {},
   "outputs": [],
   "source": [
    "new_train_y = new_train_y.astype(np.float)\n",
    "for i in range(len(new_train_y)):\n",
    "    if new_train_y[i] == 1:\n",
    "        new_train_y[i] = 0.05\n",
    "    if new_train_y[i] == 2:\n",
    "        new_train_y[i] = 0.25\n",
    "    if new_train_y[i] == 3:\n",
    "        new_train_y[i] = 0.4"
   ]
  },
  {
   "cell_type": "code",
   "execution_count": 109,
   "metadata": {},
   "outputs": [
    {
     "name": "stdout",
     "output_type": "stream",
     "text": [
      "(992, 10, 50, 50, 3)\n"
     ]
    }
   ],
   "source": [
    "new_shape = (new_train_X.shape[0], train_X.shape[1], train_X.shape[2], train_X.shape[3], train_X.shape[4])\n",
    "new_train_X = np.reshape(new_train_X, new_shape)\n",
    "print(new_train_X.shape)"
   ]
  },
  {
   "cell_type": "code",
   "execution_count": 110,
   "metadata": {
    "colab": {
     "base_uri": "https://localhost:8080/"
    },
    "executionInfo": {
     "elapsed": 1135,
     "status": "ok",
     "timestamp": 1611704661548,
     "user": {
      "displayName": "Jay Wang",
      "photoUrl": "",
      "userId": "08806282010227278078"
     },
     "user_tz": -780
    },
    "id": "UbbRaZ3QqKdE",
    "outputId": "e9f226de-bde7-4688-d5e0-cd099053637f"
   },
   "outputs": [
    {
     "name": "stdout",
     "output_type": "stream",
     "text": [
      "(10, 50, 50, 3)\n"
     ]
    }
   ],
   "source": [
    "training_image_size = ( train_X.shape[1], train_X.shape[2], train_X.shape[3], train_X.shape[4] )\n",
    "print( training_image_size )"
   ]
  },
  {
   "cell_type": "code",
   "execution_count": 111,
   "metadata": {
    "colab": {
     "base_uri": "https://localhost:8080/",
     "height": 300
    },
    "executionInfo": {
     "elapsed": 894,
     "status": "ok",
     "timestamp": 1611704663392,
     "user": {
      "displayName": "Jay Wang",
      "photoUrl": "",
      "userId": "08806282010227278078"
     },
     "user_tz": -780
    },
    "id": "GZ5wQ4lfU7lz",
    "outputId": "4961e0fe-8169-4f38-80fa-b1c631d25b94"
   },
   "outputs": [
    {
     "name": "stderr",
     "output_type": "stream",
     "text": [
      "Clipping input data to the valid range for imshow with RGB data ([0..1] for floats or [0..255] for integers).\n"
     ]
    },
    {
     "data": {
      "text/plain": [
       "<matplotlib.image.AxesImage at 0x7f90d85a2fd0>"
      ]
     },
     "execution_count": 111,
     "metadata": {},
     "output_type": "execute_result"
    },
    {
     "data": {
      "image/png": "[encoded data removed]",
      "text/plain": [
       "<Figure size 432x288 with 1 Axes>"
      ]
     },
     "metadata": {
      "image/png": {
       "height": 249,
       "width": 251
      },
      "needs_background": "light"
     },
     "output_type": "display_data"
    }
   ],
   "source": [
    "plt.imshow(train_X[0][0])"
   ]
  },
  {
   "cell_type": "code",
   "execution_count": 112,
   "metadata": {
    "executionInfo": {
     "elapsed": 868,
     "status": "ok",
     "timestamp": 1611704666976,
     "user": {
      "displayName": "Jay Wang",
      "photoUrl": "",
      "userId": "08806282010227278078"
     },
     "user_tz": -780
    },
    "id": "k3bfZaUnCEXI"
   },
   "outputs": [],
   "source": [
    "#from sklearn.utils import shuffle\n",
    "new_train_X, new_train_y = shuffle(new_train_X, new_train_y)"
   ]
  },
  {
   "cell_type": "code",
   "execution_count": 113,
   "metadata": {
    "colab": {
     "base_uri": "https://localhost:8080/"
    },
    "executionInfo": {
     "elapsed": 822,
     "status": "ok",
     "timestamp": 1611704668656,
     "user": {
      "displayName": "Jay Wang",
      "photoUrl": "",
      "userId": "08806282010227278078"
     },
     "user_tz": -780
    },
    "id": "rA9wqjvyDM-M",
    "outputId": "df5edc4f-ac7c-4e12-e7a0-8f765b5c1b08"
   },
   "outputs": [
    {
     "data": {
      "text/plain": [
       "array([0.4 , 0.05, 0.05, 0.  , 0.4 , 0.05, 0.  , 0.25, 0.4 , 0.  , 0.25,\n",
       "       0.25, 0.05, 0.4 , 0.4 , 0.  , 0.05, 0.  , 0.4 , 0.25, 0.25, 0.05,\n",
       "       0.  , 0.05, 0.05, 0.4 , 0.4 , 0.05, 0.  , 0.25, 0.  , 0.4 , 0.4 ,\n",
       "       0.4 , 0.05, 0.05, 0.  , 0.  , 0.05, 0.05, 0.  , 0.4 , 0.25, 0.4 ,\n",
       "       0.25, 0.25, 0.05, 0.  , 0.  , 0.25, 0.4 , 0.4 , 0.4 , 0.  , 0.4 ,\n",
       "       0.  , 0.  , 0.  , 0.  , 0.05, 0.05, 0.05, 0.05, 0.25, 0.25, 0.4 ,\n",
       "       0.4 , 0.4 , 0.25, 0.4 , 0.  , 0.25, 0.4 , 0.05, 0.4 , 0.4 , 0.25,\n",
       "       0.25, 0.05, 0.  , 0.25, 0.05, 0.05, 0.  , 0.4 , 0.05, 0.4 , 0.05,\n",
       "       0.  , 0.05, 0.  , 0.4 , 0.  , 0.4 , 0.  , 0.  , 0.  , 0.4 , 0.4 ,\n",
       "       0.4 , 0.05, 0.25, 0.05, 0.05, 0.  , 0.05, 0.05, 0.05, 0.4 , 0.25,\n",
       "       0.4 , 0.05, 0.05, 0.  , 0.25, 0.  , 0.25, 0.  , 0.05, 0.  , 0.05,\n",
       "       0.4 , 0.25, 0.4 , 0.25, 0.  , 0.05, 0.  , 0.4 , 0.  , 0.25, 0.  ,\n",
       "       0.25, 0.05, 0.  , 0.25, 0.4 , 0.  , 0.4 , 0.25, 0.05, 0.  , 0.  ,\n",
       "       0.25, 0.05, 0.4 , 0.4 , 0.05, 0.25, 0.05, 0.05, 0.05, 0.  , 0.05,\n",
       "       0.05, 0.4 , 0.  , 0.25, 0.25, 0.25, 0.  , 0.  , 0.4 , 0.25, 0.25,\n",
       "       0.05, 0.4 , 0.  , 0.25, 0.05, 0.  , 0.  , 0.25, 0.  , 0.4 , 0.05,\n",
       "       0.25, 0.4 , 0.4 , 0.  , 0.25, 0.  , 0.4 , 0.25, 0.25, 0.25, 0.  ,\n",
       "       0.4 , 0.25, 0.25, 0.  , 0.25, 0.  , 0.05, 0.25, 0.25, 0.05, 0.  ,\n",
       "       0.05, 0.4 , 0.25, 0.05, 0.05, 0.05, 0.05, 0.25, 0.  , 0.  , 0.25,\n",
       "       0.25, 0.25, 0.25, 0.4 , 0.05, 0.  , 0.4 , 0.05, 0.  , 0.  , 0.05,\n",
       "       0.4 , 0.25, 0.4 , 0.4 , 0.  , 0.  , 0.05, 0.05, 0.4 , 0.4 , 0.4 ,\n",
       "       0.4 , 0.25, 0.25, 0.25, 0.25, 0.  , 0.4 , 0.4 , 0.4 , 0.05, 0.25,\n",
       "       0.  , 0.25, 0.25, 0.4 , 0.05, 0.  , 0.05, 0.25, 0.25, 0.05, 0.  ,\n",
       "       0.4 , 0.  , 0.4 , 0.  , 0.05, 0.4 , 0.05, 0.  , 0.  , 0.  , 0.4 ,\n",
       "       0.05, 0.4 , 0.05, 0.4 , 0.4 , 0.05, 0.05, 0.25, 0.4 , 0.  , 0.25,\n",
       "       0.25, 0.  , 0.25, 0.25, 0.4 , 0.4 , 0.05, 0.4 , 0.4 , 0.25, 0.05,\n",
       "       0.05, 0.25, 0.4 , 0.4 , 0.05, 0.05, 0.4 , 0.05, 0.4 , 0.25, 0.05,\n",
       "       0.25, 0.  , 0.25, 0.4 , 0.  , 0.  , 0.25, 0.25, 0.25, 0.05, 0.25,\n",
       "       0.25, 0.4 , 0.25, 0.  , 0.4 , 0.4 , 0.05, 0.05, 0.05, 0.05, 0.  ,\n",
       "       0.4 , 0.25, 0.25, 0.25, 0.05, 0.05, 0.  , 0.05, 0.05, 0.  , 0.25,\n",
       "       0.4 , 0.  , 0.25, 0.  , 0.  , 0.4 , 0.4 , 0.  , 0.4 , 0.05, 0.25,\n",
       "       0.05, 0.25, 0.05, 0.25, 0.  , 0.25, 0.25, 0.4 , 0.05, 0.25, 0.25,\n",
       "       0.25, 0.25, 0.  , 0.4 , 0.4 , 0.  , 0.05, 0.25, 0.4 , 0.25, 0.25,\n",
       "       0.  , 0.05, 0.  , 0.05, 0.25, 0.25, 0.  , 0.25, 0.05, 0.05, 0.25,\n",
       "       0.4 , 0.4 , 0.25, 0.4 , 0.05, 0.  , 0.25, 0.  , 0.4 , 0.  , 0.  ,\n",
       "       0.05, 0.4 , 0.25, 0.4 , 0.  , 0.25, 0.  , 0.25, 0.05, 0.4 , 0.4 ,\n",
       "       0.25, 0.4 , 0.  , 0.25, 0.4 , 0.05, 0.05, 0.  , 0.4 , 0.05, 0.05,\n",
       "       0.  , 0.25, 0.25, 0.4 , 0.4 , 0.  , 0.4 , 0.05, 0.25, 0.05, 0.4 ,\n",
       "       0.25, 0.  , 0.4 , 0.25, 0.25, 0.25, 0.  , 0.05, 0.05, 0.  , 0.05,\n",
       "       0.  , 0.05, 0.  , 0.4 , 0.  , 0.4 , 0.4 , 0.25, 0.4 , 0.25, 0.4 ,\n",
       "       0.05, 0.  , 0.  , 0.05, 0.  , 0.4 , 0.05, 0.4 , 0.  , 0.25, 0.  ,\n",
       "       0.25, 0.4 , 0.05, 0.05, 0.05, 0.  , 0.25, 0.4 , 0.05, 0.25, 0.25,\n",
       "       0.25, 0.25, 0.  , 0.  , 0.05, 0.4 , 0.  , 0.25, 0.4 , 0.4 , 0.4 ,\n",
       "       0.25, 0.25, 0.05, 0.05, 0.25, 0.25, 0.4 , 0.25, 0.05, 0.  , 0.  ,\n",
       "       0.05, 0.4 , 0.05, 0.25, 0.  , 0.  , 0.4 , 0.4 , 0.  , 0.4 , 0.  ,\n",
       "       0.05, 0.4 , 0.25, 0.4 , 0.4 , 0.05, 0.05, 0.25, 0.4 , 0.05, 0.05,\n",
       "       0.4 , 0.05, 0.  , 0.  , 0.05, 0.4 , 0.4 , 0.  , 0.05, 0.05, 0.25,\n",
       "       0.  , 0.  , 0.25, 0.05, 0.25, 0.  , 0.25, 0.4 , 0.05, 0.  , 0.25,\n",
       "       0.05, 0.4 , 0.25, 0.25, 0.  , 0.  , 0.4 , 0.  , 0.25, 0.4 , 0.25,\n",
       "       0.  , 0.25, 0.  , 0.25, 0.25, 0.05, 0.  , 0.25, 0.4 , 0.4 , 0.05,\n",
       "       0.05, 0.  , 0.05, 0.05, 0.4 , 0.25, 0.  , 0.4 , 0.05, 0.4 , 0.4 ,\n",
       "       0.05, 0.4 , 0.  , 0.05, 0.25, 0.  , 0.05, 0.05, 0.4 , 0.25, 0.  ,\n",
       "       0.4 , 0.4 , 0.4 , 0.  , 0.05, 0.25, 0.25, 0.4 , 0.05, 0.25, 0.25,\n",
       "       0.4 , 0.  , 0.  , 0.05, 0.05, 0.05, 0.25, 0.  , 0.  , 0.05, 0.25,\n",
       "       0.25, 0.05, 0.4 , 0.05, 0.  , 0.25, 0.4 , 0.4 , 0.  , 0.4 , 0.05,\n",
       "       0.4 , 0.05, 0.4 , 0.  , 0.25, 0.  , 0.4 , 0.25, 0.  , 0.05, 0.25,\n",
       "       0.05, 0.05, 0.4 , 0.4 , 0.25, 0.  , 0.05, 0.05, 0.05, 0.25, 0.25,\n",
       "       0.4 , 0.  , 0.25, 0.  , 0.05, 0.25, 0.4 , 0.25, 0.25, 0.05, 0.  ,\n",
       "       0.4 , 0.05, 0.  , 0.4 , 0.25, 0.05, 0.4 , 0.05, 0.05, 0.  , 0.25,\n",
       "       0.4 , 0.4 , 0.  , 0.4 , 0.05, 0.  , 0.25, 0.25, 0.05, 0.  , 0.05,\n",
       "       0.4 , 0.  , 0.25, 0.05, 0.  , 0.4 , 0.  , 0.4 , 0.  , 0.  , 0.  ,\n",
       "       0.25, 0.05, 0.25, 0.4 , 0.05, 0.25, 0.25, 0.  , 0.  , 0.4 , 0.4 ,\n",
       "       0.05, 0.05, 0.4 , 0.  , 0.25, 0.4 , 0.05, 0.4 , 0.25, 0.  , 0.  ,\n",
       "       0.4 , 0.4 , 0.25, 0.05, 0.25, 0.05, 0.05, 0.25, 0.  , 0.4 , 0.  ,\n",
       "       0.25, 0.  , 0.05, 0.  , 0.25, 0.4 , 0.05, 0.25, 0.25, 0.  , 0.  ,\n",
       "       0.4 , 0.4 , 0.05, 0.  , 0.4 , 0.4 , 0.  , 0.  , 0.4 , 0.  , 0.25,\n",
       "       0.05, 0.05, 0.25, 0.  , 0.  , 0.  , 0.4 , 0.4 , 0.  , 0.25, 0.25,\n",
       "       0.25, 0.05, 0.25, 0.4 , 0.4 , 0.05, 0.  , 0.05, 0.05, 0.4 , 0.4 ,\n",
       "       0.05, 0.  , 0.4 , 0.05, 0.25, 0.  , 0.05, 0.05, 0.4 , 0.4 , 0.25,\n",
       "       0.  , 0.4 , 0.4 , 0.  , 0.  , 0.25, 0.  , 0.4 , 0.  , 0.  , 0.05,\n",
       "       0.  , 0.4 , 0.4 , 0.25, 0.25, 0.05, 0.05, 0.05, 0.4 , 0.  , 0.25,\n",
       "       0.05, 0.05, 0.05, 0.25, 0.  , 0.25, 0.  , 0.05, 0.25, 0.25, 0.4 ,\n",
       "       0.05, 0.05, 0.  , 0.  , 0.05, 0.  , 0.4 , 0.4 , 0.4 , 0.  , 0.4 ,\n",
       "       0.05, 0.  , 0.25, 0.05, 0.25, 0.25, 0.25, 0.  , 0.4 , 0.4 , 0.  ,\n",
       "       0.  , 0.  , 0.25, 0.  , 0.4 , 0.25, 0.4 , 0.05, 0.  , 0.  , 0.  ,\n",
       "       0.4 , 0.4 , 0.4 , 0.25, 0.05, 0.25, 0.25, 0.  , 0.25, 0.05, 0.25,\n",
       "       0.25, 0.05, 0.05, 0.05, 0.  , 0.05, 0.25, 0.4 , 0.4 , 0.4 , 0.05,\n",
       "       0.05, 0.  , 0.  , 0.4 , 0.25, 0.  , 0.4 , 0.05, 0.05, 0.4 , 0.25,\n",
       "       0.4 , 0.05, 0.4 , 0.05, 0.05, 0.05, 0.4 , 0.4 , 0.  , 0.4 , 0.25,\n",
       "       0.  , 0.05, 0.05, 0.25, 0.05, 0.  , 0.  , 0.  , 0.05, 0.25, 0.25,\n",
       "       0.4 , 0.4 , 0.05, 0.25, 0.4 , 0.  , 0.05, 0.  , 0.  , 0.4 , 0.  ,\n",
       "       0.  , 0.25, 0.05, 0.  , 0.  , 0.05, 0.  , 0.4 , 0.  , 0.  , 0.05,\n",
       "       0.  , 0.  , 0.4 , 0.25, 0.4 , 0.05, 0.25, 0.05, 0.25, 0.  , 0.  ,\n",
       "       0.4 , 0.25, 0.4 , 0.05, 0.25, 0.25, 0.05, 0.25, 0.05, 0.  , 0.05,\n",
       "       0.25, 0.4 , 0.05, 0.  , 0.05, 0.4 , 0.05, 0.05, 0.05, 0.  , 0.25,\n",
       "       0.4 , 0.05, 0.4 , 0.05, 0.4 , 0.4 , 0.  , 0.4 , 0.4 , 0.25, 0.4 ,\n",
       "       0.25, 0.25, 0.  , 0.  , 0.05, 0.  , 0.05, 0.25, 0.25, 0.25, 0.4 ,\n",
       "       0.25, 0.  , 0.25, 0.25, 0.4 , 0.4 , 0.  , 0.  , 0.25, 0.  , 0.05,\n",
       "       0.05, 0.05, 0.4 , 0.05, 0.  , 0.25, 0.25, 0.  , 0.4 , 0.4 , 0.  ,\n",
       "       0.25, 0.4 , 0.25, 0.05, 0.  , 0.4 , 0.25, 0.25, 0.25, 0.05, 0.25,\n",
       "       0.25, 0.  ])"
      ]
     },
     "execution_count": 113,
     "metadata": {},
     "output_type": "execute_result"
    }
   ],
   "source": [
    "new_train_y"
   ]
  },
  {
   "cell_type": "code",
   "execution_count": 86,
   "metadata": {},
   "outputs": [
    {
     "data": {
      "text/plain": [
       "64"
      ]
     },
     "execution_count": 86,
     "metadata": {},
     "output_type": "execute_result"
    }
   ],
   "source": [
    "neuronsLevel = 32\n",
    "neuronsLevel*= 2\n",
    "neuronsLevel"
   ]
  },
  {
   "cell_type": "code",
   "execution_count": 114,
   "metadata": {
    "colab": {
     "base_uri": "https://localhost:8080/"
    },
    "executionInfo": {
     "elapsed": 2027,
     "status": "ok",
     "timestamp": 1611704673576,
     "user": {
      "displayName": "Jay Wang",
      "photoUrl": "",
      "userId": "08806282010227278078"
     },
     "user_tz": -780
    },
    "id": "PoOg1D8RUJ50",
    "outputId": "3ef6ce1d-b709-415b-faa1-fc04ddedc31e"
   },
   "outputs": [
    {
     "name": "stdout",
     "output_type": "stream",
     "text": [
      "Model: \"sequential_2\"\n",
      "_________________________________________________________________\n",
      "Layer (type)                 Output Shape              Param #   \n",
      "=================================================================\n",
      "base (ConvLSTM2D)            (None, 10, 50, 50, 32)    363008    \n",
      "_________________________________________________________________\n",
      "max_pooling3d_3 (MaxPooling3 (None, 10, 25, 25, 32)    0         \n",
      "_________________________________________________________________\n",
      "myThing0 (ConvLSTM2D)        (None, 10, 25, 25, 64)    1990912   \n",
      "_________________________________________________________________\n",
      "myThing1 (ConvLSTM2D)        (None, 10, 25, 25, 128)   7963136   \n",
      "_________________________________________________________________\n",
      "max_pooling3d_4 (MaxPooling3 (None, 10, 12, 12, 128)   0         \n",
      "_________________________________________________________________\n",
      "conv_lst_m2d_1 (ConvLSTM2D)  (None, 12, 12, 256)       31851520  \n",
      "_________________________________________________________________\n",
      "max_pooling2d_1 (MaxPooling2 (None, 12, 6, 256)        0         \n",
      "_________________________________________________________________\n",
      "dense_3 (Dense)              (None, 12, 6, 320)        82240     \n",
      "_________________________________________________________________\n",
      "activation_1 (Activation)    (None, 12, 6, 320)        0         \n",
      "_________________________________________________________________\n",
      "dropout_1 (Dropout)          (None, 12, 6, 320)        0         \n",
      "_________________________________________________________________\n",
      "flatten_1 (Flatten)          (None, 23040)             0         \n",
      "_________________________________________________________________\n",
      "dense_4 (Dense)              (None, 64)                1474624   \n",
      "_________________________________________________________________\n",
      "dense_5 (Dense)              (None, 1)                 65        \n",
      "=================================================================\n",
      "Total params: 43,725,505\n",
      "Trainable params: 43,725,505\n",
      "Non-trainable params: 0\n",
      "_________________________________________________________________\n"
     ]
    }
   ],
   "source": [
    "def build_convnet( neurons=32, kernels=4, layers=2, shrink=2):\n",
    "  model = Sequential()\n",
    "  neurons = int( neurons )\n",
    "  kernels = int( kernels )\n",
    "  layers = int( layers )\n",
    "  fred = int( kernels *2 +1 )\n",
    "  neuronsLevel = neurons\n",
    "  model.add(ConvLSTM2D( neuronsLevel, (fred, fred), name='base',activation='relu', padding='same', return_sequences=True, input_shape = training_image_size, kernel_initializer='glorot_uniform'))\n",
    "  model.add(MaxPooling3D(pool_size=(1, 2, 2)))\n",
    "\n",
    "  for i in range( layers ):\n",
    "    neuronsLevel *= 2\n",
    "    model.add(ConvLSTM2D( int(neuronsLevel), (fred, fred), name=f'myThing{i}', activation='relu', padding='same', return_sequences=True))\n",
    "  model.add(MaxPooling3D(pool_size=(1, 2, 2)))\n",
    "  #for l in range( layers ):\n",
    "    #model.add(ConvLSTM2D(neurons *32, (fred, fred), activation='relu', padding='same', return_sequences=True))\n",
    "  #model.add(MaxPooling3D(pool_size=(1, 2, 2)))\n",
    "  neuronsLevel *= shrink\n",
    "  model.add(ConvLSTM2D(int(neuronsLevel), (fred, fred), activation='relu', padding='same', return_sequences=False))\n",
    "  model.add(MaxPooling2D(pool_size=(1, 2)))\n",
    "  model.add(Dense(320))\n",
    "  model.add(Activation('relu'))\n",
    "  model.add(Dropout(0.1))\n",
    "\n",
    "\n",
    "  model.add(Flatten())\n",
    "  model.add(Dense(64, activation='relu'))\n",
    "  model.add(Dense(1, activation='relu'))\n",
    "\n",
    "\n",
    "  #out_shape = model.output_shape\n",
    "  #SequenceLength = train_X.shape[1]\n",
    "  #model.add(Reshape((SequenceLength, out_shape[1])))\n",
    "  #model.add(LSTM(64, return_sequences=False))\n",
    "  #model.add(Dropout(0.5))\n",
    "  #model.add(Dense(1, activation='relu'))\n",
    "  model.compile(loss='mse', optimizer='sgd', metrics=['accuracy'])\n",
    "\n",
    "  \n",
    " \n",
    "  # model structure summary\n",
    "  return model\n",
    "\n",
    "model = build_convnet()\n",
    "model.summary()"
   ]
  },
  {
   "cell_type": "code",
   "execution_count": 115,
   "metadata": {
    "colab": {
     "base_uri": "https://localhost:8080/"
    },
    "executionInfo": {
     "elapsed": 847,
     "status": "ok",
     "timestamp": 1611704678657,
     "user": {
      "displayName": "Jay Wang",
      "photoUrl": "",
      "userId": "08806282010227278078"
     },
     "user_tz": -780
    },
    "id": "_ozvbVrVQjTV",
    "outputId": "e77b3fb9-22a5-400a-a9aa-282fbdc81c3e"
   },
   "outputs": [
    {
     "name": "stdout",
     "output_type": "stream",
     "text": [
      "(992, 10, 50, 50, 3)\n",
      "(992,)\n",
      "(45, 10, 50, 50, 3)\n",
      "(45,)\n"
     ]
    }
   ],
   "source": [
    "print(new_train_X.shape)\n",
    "print(new_train_y.shape)\n",
    "print(test_X.shape)\n",
    "print(test_y.shape)"
   ]
  },
  {
   "cell_type": "code",
   "execution_count": 116,
   "metadata": {
    "colab": {
     "base_uri": "https://localhost:8080/"
    },
    "executionInfo": {
     "elapsed": 306620,
     "status": "ok",
     "timestamp": 1611694452607,
     "user": {
      "displayName": "Jay Wang",
      "photoUrl": "",
      "userId": "08806282010227278078"
     },
     "user_tz": -780
    },
    "id": "jkU0iIAsUKAZ",
    "outputId": "7b4f283d-a861-445d-dc23-a206987296bf"
   },
   "outputs": [
    {
     "name": "stdout",
     "output_type": "stream",
     "text": [
      "Epoch 1/100\n",
      "223/223 [==============================] - 5934s 27s/step - loss: 0.0566 - accuracy: 0.2482 - val_loss: 0.0539 - val_accuracy: 0.2500\n",
      "Epoch 2/100\n",
      "223/223 [==============================] - 5907s 26s/step - loss: 0.0437 - accuracy: 0.2482 - val_loss: 0.0242 - val_accuracy: 0.2500\n",
      "Epoch 3/100\n",
      "223/223 [==============================] - 5353s 24s/step - loss: 0.0264 - accuracy: 0.2482 - val_loss: 0.0242 - val_accuracy: 0.2500\n",
      "Epoch 4/100\n",
      "223/223 [==============================] - 5366s 24s/step - loss: 0.0264 - accuracy: 0.2482 - val_loss: 0.0242 - val_accuracy: 0.2500\n",
      "Epoch 5/100\n",
      "223/223 [==============================] - 5631s 25s/step - loss: 0.0264 - accuracy: 0.2482 - val_loss: 0.0242 - val_accuracy: 0.2500\n",
      "Epoch 6/100\n",
      "223/223 [==============================] - 5343s 24s/step - loss: 0.0264 - accuracy: 0.2482 - val_loss: 0.0242 - val_accuracy: 0.2500\n",
      "Epoch 7/100\n",
      "223/223 [==============================] - 5337s 24s/step - loss: 0.0263 - accuracy: 0.2482 - val_loss: 0.0242 - val_accuracy: 0.2500\n",
      "Epoch 00007: early stopping\n"
     ]
    },
    {
     "data": {
      "text/plain": [
       "0.16561183"
      ]
     },
     "execution_count": 116,
     "metadata": {},
     "output_type": "execute_result"
    }
   ],
   "source": [
    "earlyStopping = EarlyStopping( monitor='val_loss', min_delta=1.0e-4, patience=5, verbose=2, mode='auto' )\n",
    "callbacks = [earlyStopping]\n",
    "history = model.fit(new_train_X, new_train_y, batch_size=4, epochs=100, verbose=True, validation_split=0.1, callbacks=callbacks, shuffle=False)\n",
    "loss, accuracy  = model.evaluate(test_X, test_y, verbose=False)\n",
    "model.predict( test_X ).max()"
   ]
  },
  {
   "cell_type": "code",
   "execution_count": 117,
   "metadata": {
    "colab": {
     "base_uri": "https://localhost:8080/"
    },
    "executionInfo": {
     "elapsed": 1468,
     "status": "ok",
     "timestamp": 1611695029714,
     "user": {
      "displayName": "Jay Wang",
      "photoUrl": "",
      "userId": "08806282010227278078"
     },
     "user_tz": -780
    },
    "id": "PrLEmVp-8Fo3",
    "outputId": "daadccb5-ae14-4151-aefb-ce53725a4348"
   },
   "outputs": [
    {
     "name": "stdout",
     "output_type": "stream",
     "text": [
      "(array([0.16561183], dtype=float32), 0.0)\n",
      "(array([0.16546367], dtype=float32), 0.0)\n",
      "(array([0.16529188], dtype=float32), 0.0)\n",
      "(array([0.16522959], dtype=float32), 0.0)\n",
      "(array([0.16526054], dtype=float32), 0.0)\n",
      "(array([0.16527964], dtype=float32), 0.0)\n",
      "(array([0.16528574], dtype=float32), 0.0)\n",
      "(array([0.16532879], dtype=float32), 0.0)\n",
      "(array([0.16536653], dtype=float32), 0.0)\n",
      "(array([0.16532221], dtype=float32), 0.0)\n",
      "(array([0.16527544], dtype=float32), 0.05)\n",
      "(array([0.1652001], dtype=float32), 0.25)\n",
      "(array([0.16511247], dtype=float32), 0.4)\n",
      "(array([0.16503191], dtype=float32), 0.25)\n",
      "(array([0.16499515], dtype=float32), 0.05)\n",
      "(array([0.16271263], dtype=float32), 0.0)\n",
      "(array([0.16269714], dtype=float32), 0.0)\n",
      "(array([0.16268533], dtype=float32), 0.0)\n",
      "(array([0.16267209], dtype=float32), 0.0)\n",
      "(array([0.16266593], dtype=float32), 0.0)\n",
      "(array([0.1626696], dtype=float32), 0.0)\n",
      "(array([0.16268998], dtype=float32), 0.0)\n",
      "(array([0.16272126], dtype=float32), 0.0)\n",
      "(array([0.16276258], dtype=float32), 0.0)\n",
      "(array([0.16281861], dtype=float32), 0.0)\n",
      "(array([0.16287361], dtype=float32), 0.05)\n",
      "(array([0.16291232], dtype=float32), 0.25)\n",
      "(array([0.16293384], dtype=float32), 0.4)\n",
      "(array([0.16294435], dtype=float32), 0.25)\n",
      "(array([0.16294873], dtype=float32), 0.05)\n",
      "(array([0.16337568], dtype=float32), 0.0)\n",
      "(array([0.16345298], dtype=float32), 0.0)\n",
      "(array([0.1635241], dtype=float32), 0.0)\n",
      "(array([0.16359296], dtype=float32), 0.0)\n",
      "(array([0.16365919], dtype=float32), 0.0)\n",
      "(array([0.16372204], dtype=float32), 0.0)\n",
      "(array([0.1637812], dtype=float32), 0.0)\n",
      "(array([0.16384181], dtype=float32), 0.0)\n",
      "(array([0.16390094], dtype=float32), 0.0)\n",
      "(array([0.16395932], dtype=float32), 0.0)\n",
      "(array([0.16402023], dtype=float32), 0.05)\n",
      "(array([0.16408113], dtype=float32), 0.25)\n",
      "(array([0.16414064], dtype=float32), 0.4)\n",
      "(array([0.16419633], dtype=float32), 0.25)\n",
      "(array([0.16425273], dtype=float32), 0.05)\n"
     ]
    }
   ],
   "source": [
    "a = zip(model.predict( test_X ), test_y)\n",
    "for i in a:\n",
    "  print(i)"
   ]
  },
  {
   "cell_type": "code",
   "execution_count": 1,
   "metadata": {
    "colab": {
     "base_uri": "https://localhost:8080/",
     "height": 198
    },
    "executionInfo": {
     "elapsed": 600,
     "status": "error",
     "timestamp": 1611702366414,
     "user": {
      "displayName": "Jay Wang",
      "photoUrl": "",
      "userId": "08806282010227278078"
     },
     "user_tz": -780
    },
    "id": "eZQfiL5kopT9",
    "outputId": "c170d833-dffb-4118-96c9-f2e1b6b7842b"
   },
   "outputs": [
    {
     "ename": "NameError",
     "evalue": "name 'plot_loss_accuracy' is not defined",
     "output_type": "error",
     "traceback": [
      "\u001b[0;31m---------------------------------------------------------------------------\u001b[0m",
      "\u001b[0;31mNameError\u001b[0m                                 Traceback (most recent call last)",
      "\u001b[0;32m<ipython-input-1-24d0a8957146>\u001b[0m in \u001b[0;36m<module>\u001b[0;34m\u001b[0m\n\u001b[0;32m----> 1\u001b[0;31m \u001b[0mplot_loss_accuracy\u001b[0m\u001b[0;34m(\u001b[0m\u001b[0mhistory\u001b[0m\u001b[0;34m)\u001b[0m\u001b[0;34m\u001b[0m\u001b[0;34m\u001b[0m\u001b[0m\n\u001b[0m\u001b[1;32m      2\u001b[0m \u001b[0mprint\u001b[0m\u001b[0;34m(\u001b[0m\u001b[0;34mf'Test loss: {loss:.3}'\u001b[0m\u001b[0;34m)\u001b[0m\u001b[0;34m\u001b[0m\u001b[0;34m\u001b[0m\u001b[0m\n\u001b[1;32m      3\u001b[0m \u001b[0mprint\u001b[0m\u001b[0;34m(\u001b[0m\u001b[0;34mf'Test accuracy: {accuracy:.3}'\u001b[0m\u001b[0;34m)\u001b[0m\u001b[0;34m\u001b[0m\u001b[0;34m\u001b[0m\u001b[0m\n",
      "\u001b[0;31mNameError\u001b[0m: name 'plot_loss_accuracy' is not defined"
     ]
    }
   ],
   "source": [
    "plot_loss_accuracy(history)\n",
    "print(f'Test loss: {loss:.3}')\n",
    "print(f'Test accuracy: {accuracy:.3}')"
   ]
  },
  {
   "cell_type": "code",
   "execution_count": null,
   "metadata": {
    "colab": {
     "base_uri": "https://localhost:8080/"
    },
    "executionInfo": {
     "elapsed": 803,
     "status": "ok",
     "timestamp": 1611658874392,
     "user": {
      "displayName": "Jay Wang",
      "photoUrl": "",
      "userId": "08806282010227278078"
     },
     "user_tz": -780
    },
    "id": "vNE058TLT6x6",
    "outputId": "0718e3a8-db48-49b8-97d9-56680dbbfbaf"
   },
   "outputs": [
    {
     "data": {
      "text/plain": [
       "{'accuracy': [0.6714285612106323,\n",
       "  0.6714285612106323,\n",
       "  0.6714285612106323,\n",
       "  0.6714285612106323,\n",
       "  0.6714285612106323,\n",
       "  0.6714285612106323],\n",
       " 'loss': [0.015060091391205788,\n",
       "  0.015102903358638287,\n",
       "  0.015099053271114826,\n",
       "  0.0150075051933527,\n",
       "  0.015055696479976177,\n",
       "  0.015163478441536427],\n",
       " 'val_accuracy': [0.6666666865348816,\n",
       "  0.6666666865348816,\n",
       "  0.6666666865348816,\n",
       "  0.6666666865348816,\n",
       "  0.6666666865348816,\n",
       "  0.6666666865348816],\n",
       " 'val_loss': [0.014888928271830082,\n",
       "  0.01488894410431385,\n",
       "  0.014889311045408249,\n",
       "  0.014888972043991089,\n",
       "  0.014888884499669075,\n",
       "  0.014889095909893513]}"
      ]
     },
     "execution_count": 153,
     "metadata": {
      "tags": []
     },
     "output_type": "execute_result"
    }
   ],
   "source": [
    "history.history"
   ]
  },
  {
   "cell_type": "code",
   "execution_count": 23,
   "metadata": {
    "executionInfo": {
     "elapsed": 830,
     "status": "ok",
     "timestamp": 1611704690258,
     "user": {
      "displayName": "Jay Wang",
      "photoUrl": "",
      "userId": "08806282010227278078"
     },
     "user_tz": -780
    },
    "id": "UagwVAbngYyi"
   },
   "outputs": [],
   "source": [
    "def modelFit():\n",
    "  earlyStopping = EarlyStopping( monitor='val_loss', min_delta=1.0e-4, patience=5, verbose=2, mode='auto' )\n",
    "  callbacks = [earlyStopping]\n",
    "  history = model.fit(train_X, train_y, batch_size=4, epochs=100, verbose=True, validation_data=( test_X, test_y ), callbacks=callbacks, shuffle=False)\n",
    "  loss, accuracy  = model.evaluate(test_X, test_y, verbose=False)\n",
    "  return model.predict( test_X ).max()"
   ]
  },
  {
   "cell_type": "code",
   "execution_count": 24,
   "metadata": {
    "executionInfo": {
     "elapsed": 623,
     "status": "ok",
     "timestamp": 1611704691426,
     "user": {
      "displayName": "Jay Wang",
      "photoUrl": "",
      "userId": "08806282010227278078"
     },
     "user_tz": -780
    },
    "id": "cVAz2QygKimZ"
   },
   "outputs": [],
   "source": [
    "def modeltests( **kwargs ):\n",
    "#  return math.sqrt( kwargs['layers']) *math.sin( kwargs['neurons'])\n",
    "  model = build_convnet( **kwargs )\n",
    "  if model:\n",
    "    result = modelFit()\n",
    "    return float(result)"
   ]
  },
  {
   "cell_type": "code",
   "execution_count": 27,
   "metadata": {
    "colab": {
     "base_uri": "https://localhost:8080/"
    },
    "id": "08WwxaHtgCE2",
    "outputId": "fc05360c-e327-4d01-91a6-227a9fac2c8d"
   },
   "outputs": [
    {
     "name": "stdout",
     "output_type": "stream",
     "text": [
      "|   iter    |  target   |  kernels  |  layers   |  neurons  |  shrink   |\n",
      "-------------------------------------------------------------------------\n",
      "Epoch 1/100\n",
      "57/57 [==============================] - 212s 4s/step - loss: 0.0179 - accuracy: 0.6835 - val_loss: 0.0151 - val_accuracy: 0.6667\n",
      "Epoch 2/100\n",
      "57/57 [==============================] - 201s 4s/step - loss: 0.0162 - accuracy: 0.6835 - val_loss: 0.0151 - val_accuracy: 0.6667\n",
      "Epoch 3/100\n",
      "57/57 [==============================] - 202s 4s/step - loss: 0.0162 - accuracy: 0.6835 - val_loss: 0.0151 - val_accuracy: 0.6667\n",
      "Epoch 4/100\n",
      "57/57 [==============================] - 204s 4s/step - loss: 0.0162 - accuracy: 0.6835 - val_loss: 0.0151 - val_accuracy: 0.6667\n",
      "Epoch 5/100\n",
      "57/57 [==============================] - 204s 4s/step - loss: 0.0162 - accuracy: 0.6835 - val_loss: 0.0151 - val_accuracy: 0.6667\n",
      "Epoch 6/100\n",
      "57/57 [==============================] - 203s 4s/step - loss: 0.0162 - accuracy: 0.6835 - val_loss: 0.0150 - val_accuracy: 0.6667\n",
      "Epoch 00006: early stopping\n",
      "| \u001b[0m 1       \u001b[0m | \u001b[0m 0.054   \u001b[0m | \u001b[0m 2.498   \u001b[0m | \u001b[0m 3.803   \u001b[0m | \u001b[0m 36.87   \u001b[0m | \u001b[0m 2.197   \u001b[0m |\n",
      "Epoch 1/100\n",
      "57/57 [==============================] - 204s 4s/step - loss: 0.0150 - accuracy: 0.6711 - val_loss: 0.0150 - val_accuracy: 0.6667\n",
      "Epoch 2/100\n",
      "57/57 [==============================] - 208s 4s/step - loss: 0.0150 - accuracy: 0.6711 - val_loss: 0.0150 - val_accuracy: 0.6667\n",
      "Epoch 3/100\n",
      "57/57 [==============================] - 210s 4s/step - loss: 0.0150 - accuracy: 0.6711 - val_loss: 0.0150 - val_accuracy: 0.6667\n",
      "Epoch 4/100\n",
      "57/57 [==============================] - 211s 4s/step - loss: 0.0150 - accuracy: 0.6711 - val_loss: 0.0150 - val_accuracy: 0.6667\n",
      "Epoch 5/100\n",
      "57/57 [==============================] - 211s 4s/step - loss: 0.0150 - accuracy: 0.6711 - val_loss: 0.0150 - val_accuracy: 0.6667\n",
      "Epoch 6/100\n",
      "57/57 [==============================] - 212s 4s/step - loss: 0.0150 - accuracy: 0.6711 - val_loss: 0.0150 - val_accuracy: 0.6667\n",
      "Epoch 00006: early stopping\n",
      "| \u001b[95m 2       \u001b[0m | \u001b[95m 0.05415 \u001b[0m | \u001b[95m 1.624   \u001b[0m | \u001b[95m 0.624   \u001b[0m | \u001b[95m 3.846   \u001b[0m | \u001b[95m 2.732   \u001b[0m |\n",
      "Epoch 1/100\n",
      "57/57 [==============================] - 213s 4s/step - loss: 0.0150 - accuracy: 0.6711 - val_loss: 0.0150 - val_accuracy: 0.6667\n",
      "Epoch 2/100\n",
      "57/57 [==============================] - 222s 4s/step - loss: 0.0150 - accuracy: 0.6711 - val_loss: 0.0151 - val_accuracy: 0.6667\n",
      "Epoch 3/100\n",
      "57/57 [==============================] - 216s 4s/step - loss: 0.0151 - accuracy: 0.6711 - val_loss: 0.0151 - val_accuracy: 0.6667\n",
      "Epoch 4/100\n",
      "57/57 [==============================] - 215s 4s/step - loss: 0.0151 - accuracy: 0.6711 - val_loss: 0.0150 - val_accuracy: 0.6667\n",
      "Epoch 5/100\n",
      "57/57 [==============================] - 214s 4s/step - loss: 0.0150 - accuracy: 0.6711 - val_loss: 0.0150 - val_accuracy: 0.6667\n",
      "Epoch 6/100\n",
      "57/57 [==============================] - 215s 4s/step - loss: 0.0150 - accuracy: 0.6711 - val_loss: 0.0150 - val_accuracy: 0.6667\n",
      "Epoch 00006: early stopping\n",
      "| \u001b[95m 3       \u001b[0m | \u001b[95m 0.05431 \u001b[0m | \u001b[95m 3.404   \u001b[0m | \u001b[95m 2.832   \u001b[0m | \u001b[95m 2.009   \u001b[0m | \u001b[95m 2.94    \u001b[0m |\n",
      "Epoch 1/100\n",
      "57/57 [==============================] - 216s 4s/step - loss: 0.0151 - accuracy: 0.6711 - val_loss: 0.0150 - val_accuracy: 0.6667\n",
      "Epoch 2/100\n",
      "57/57 [==============================] - 215s 4s/step - loss: 0.0150 - accuracy: 0.6711 - val_loss: 0.0150 - val_accuracy: 0.6667\n",
      "Epoch 3/100\n",
      "57/57 [==============================] - 215s 4s/step - loss: 0.0150 - accuracy: 0.6711 - val_loss: 0.0150 - val_accuracy: 0.6667\n",
      "Epoch 4/100\n",
      "57/57 [==============================] - 215s 4s/step - loss: 0.0150 - accuracy: 0.6711 - val_loss: 0.0150 - val_accuracy: 0.6667\n",
      "Epoch 5/100\n",
      "57/57 [==============================] - 214s 4s/step - loss: 0.0150 - accuracy: 0.6711 - val_loss: 0.0150 - val_accuracy: 0.6667\n",
      "Epoch 6/100\n",
      "57/57 [==============================] - 215s 4s/step - loss: 0.0150 - accuracy: 0.6711 - val_loss: 0.0150 - val_accuracy: 0.6667\n",
      "Epoch 00006: early stopping\n",
      "| \u001b[95m 4       \u001b[0m | \u001b[95m 0.05449 \u001b[0m | \u001b[95m 4.33    \u001b[0m | \u001b[95m 0.8494  \u001b[0m | \u001b[95m 9.909   \u001b[0m | \u001b[95m 1.367   \u001b[0m |\n",
      "Epoch 1/100\n",
      "57/57 [==============================] - 214s 4s/step - loss: 0.0150 - accuracy: 0.6711 - val_loss: 0.0150 - val_accuracy: 0.6667\n",
      "Epoch 2/100\n",
      "57/57 [==============================] - 215s 4s/step - loss: 0.0150 - accuracy: 0.6711 - val_loss: 0.0150 - val_accuracy: 0.6667\n",
      "Epoch 3/100\n",
      "57/57 [==============================] - 214s 4s/step - loss: 0.0150 - accuracy: 0.6711 - val_loss: 0.0150 - val_accuracy: 0.6667\n",
      "Epoch 4/100\n",
      "57/57 [==============================] - 215s 4s/step - loss: 0.0151 - accuracy: 0.6711 - val_loss: 0.0150 - val_accuracy: 0.6667\n",
      "Epoch 5/100\n",
      "57/57 [==============================] - 214s 4s/step - loss: 0.0150 - accuracy: 0.6711 - val_loss: 0.0150 - val_accuracy: 0.6667\n",
      "Epoch 6/100\n",
      "57/57 [==============================] - 213s 4s/step - loss: 0.0151 - accuracy: 0.6711 - val_loss: 0.0150 - val_accuracy: 0.6667\n",
      "Epoch 00006: early stopping\n",
      "| \u001b[0m 5       \u001b[0m | \u001b[0m 0.05437 \u001b[0m | \u001b[0m 2.217   \u001b[0m | \u001b[0m 2.099   \u001b[0m | \u001b[0m 22.17   \u001b[0m | \u001b[0m 1.582   \u001b[0m |\n",
      "Epoch 1/100\n",
      "57/57 [==============================] - 213s 4s/step - loss: 0.0150 - accuracy: 0.6711 - val_loss: 0.0150 - val_accuracy: 0.6667\n",
      "Epoch 2/100\n",
      "57/57 [==============================] - 213s 4s/step - loss: 0.0150 - accuracy: 0.6711 - val_loss: 0.0150 - val_accuracy: 0.6667\n",
      "Epoch 3/100\n",
      "57/57 [==============================] - 214s 4s/step - loss: 0.0150 - accuracy: 0.6711 - val_loss: 0.0150 - val_accuracy: 0.6667\n",
      "Epoch 4/100\n",
      "57/57 [==============================] - 213s 4s/step - loss: 0.0150 - accuracy: 0.6711 - val_loss: 0.0150 - val_accuracy: 0.6667\n",
      "Epoch 5/100\n",
      "57/57 [==============================] - 214s 4s/step - loss: 0.0150 - accuracy: 0.6711 - val_loss: 0.0150 - val_accuracy: 0.6667\n",
      "Epoch 6/100\n",
      "57/57 [==============================] - 213s 4s/step - loss: 0.0150 - accuracy: 0.6711 - val_loss: 0.0150 - val_accuracy: 0.6667\n",
      "Epoch 00006: early stopping\n",
      "| \u001b[0m 6       \u001b[0m | \u001b[0m 0.05441 \u001b[0m | \u001b[0m 3.447   \u001b[0m | \u001b[0m 0.558   \u001b[0m | \u001b[0m 15.32   \u001b[0m | \u001b[0m 1.733   \u001b[0m |\n",
      "Epoch 1/100\n",
      "57/57 [==============================] - 213s 4s/step - loss: 0.0150 - accuracy: 0.6711 - val_loss: 0.0150 - val_accuracy: 0.6667\n",
      "Epoch 2/100\n",
      "57/57 [==============================] - 213s 4s/step - loss: 0.0150 - accuracy: 0.6711 - val_loss: 0.0150 - val_accuracy: 0.6667\n",
      "Epoch 3/100\n",
      "57/57 [==============================] - 213s 4s/step - loss: 0.0150 - accuracy: 0.6711 - val_loss: 0.0150 - val_accuracy: 0.6667\n",
      "Epoch 4/100\n",
      "57/57 [==============================] - 213s 4s/step - loss: 0.0150 - accuracy: 0.6711 - val_loss: 0.0150 - val_accuracy: 0.6667\n",
      "Epoch 5/100\n",
      "57/57 [==============================] - 212s 4s/step - loss: 0.0150 - accuracy: 0.6711 - val_loss: 0.0150 - val_accuracy: 0.6667\n",
      "Epoch 6/100\n",
      "57/57 [==============================] - 212s 4s/step - loss: 0.0151 - accuracy: 0.6711 - val_loss: 0.0150 - val_accuracy: 0.6667\n",
      "Epoch 00006: early stopping\n",
      "| \u001b[0m 7       \u001b[0m | \u001b[0m 0.05448 \u001b[0m | \u001b[0m 2.824   \u001b[0m | \u001b[0m 3.141   \u001b[0m | \u001b[0m 10.78   \u001b[0m | \u001b[0m 2.028   \u001b[0m |\n",
      "Epoch 1/100\n",
      "57/57 [==============================] - 212s 4s/step - loss: 0.0151 - accuracy: 0.6711 - val_loss: 0.0150 - val_accuracy: 0.6667\n",
      "Epoch 2/100\n",
      "57/57 [==============================] - 212s 4s/step - loss: 0.0151 - accuracy: 0.6711 - val_loss: 0.0150 - val_accuracy: 0.6667\n",
      "Epoch 3/100\n",
      "57/57 [==============================] - 212s 4s/step - loss: 0.0150 - accuracy: 0.6711 - val_loss: 0.0150 - val_accuracy: 0.6667\n",
      "Epoch 4/100\n",
      "57/57 [==============================] - 212s 4s/step - loss: 0.0150 - accuracy: 0.6711 - val_loss: 0.0150 - val_accuracy: 0.6667\n",
      "Epoch 5/100\n",
      "57/57 [==============================] - 212s 4s/step - loss: 0.0150 - accuracy: 0.6711 - val_loss: 0.0150 - val_accuracy: 0.6667\n",
      "Epoch 6/100\n",
      "57/57 [==============================] - 212s 4s/step - loss: 0.0150 - accuracy: 0.6711 - val_loss: 0.0150 - val_accuracy: 0.6667\n",
      "Epoch 00006: early stopping\n",
      "| \u001b[95m 8       \u001b[0m | \u001b[95m 0.05481 \u001b[0m | \u001b[95m 3.37    \u001b[0m | \u001b[95m 0.1858  \u001b[0m | \u001b[95m 30.77   \u001b[0m | \u001b[95m 1.341   \u001b[0m |\n",
      "Epoch 1/100\n"
     ]
    },
    {
     "name": "stdout",
     "output_type": "stream",
     "text": [
      "57/57 [==============================] - 211s 4s/step - loss: 0.0150 - accuracy: 0.6711 - val_loss: 0.0150 - val_accuracy: 0.6667\n",
      "Epoch 2/100\n",
      "57/57 [==============================] - 211s 4s/step - loss: 0.0150 - accuracy: 0.6711 - val_loss: 0.0150 - val_accuracy: 0.6667\n",
      "Epoch 3/100\n",
      "57/57 [==============================] - 212s 4s/step - loss: 0.0151 - accuracy: 0.6711 - val_loss: 0.0150 - val_accuracy: 0.6667\n",
      "Epoch 4/100\n",
      "57/57 [==============================] - 211s 4s/step - loss: 0.0150 - accuracy: 0.6711 - val_loss: 0.0150 - val_accuracy: 0.6667\n",
      "Epoch 5/100\n",
      "57/57 [==============================] - 212s 4s/step - loss: 0.0150 - accuracy: 0.6711 - val_loss: 0.0150 - val_accuracy: 0.6667\n",
      "Epoch 6/100\n",
      "57/57 [==============================] - 211s 4s/step - loss: 0.0150 - accuracy: 0.6711 - val_loss: 0.0150 - val_accuracy: 0.6667\n",
      "Epoch 00006: early stopping\n",
      "| \u001b[95m 9       \u001b[0m | \u001b[95m 0.05492 \u001b[0m | \u001b[95m 1.26    \u001b[0m | \u001b[95m 3.796   \u001b[0m | \u001b[95m 48.32   \u001b[0m | \u001b[95m 2.617   \u001b[0m |\n",
      "Epoch 1/100\n",
      "57/57 [==============================] - 211s 4s/step - loss: 0.0150 - accuracy: 0.6711 - val_loss: 0.0150 - val_accuracy: 0.6667\n",
      "Epoch 2/100\n",
      "57/57 [==============================] - 211s 4s/step - loss: 0.0150 - accuracy: 0.6711 - val_loss: 0.0150 - val_accuracy: 0.6667\n",
      "Epoch 3/100\n",
      "57/57 [==============================] - 211s 4s/step - loss: 0.0150 - accuracy: 0.6711 - val_loss: 0.0150 - val_accuracy: 0.6667\n",
      "Epoch 4/100\n",
      "57/57 [==============================] - 211s 4s/step - loss: 0.0150 - accuracy: 0.6711 - val_loss: 0.0150 - val_accuracy: 0.6667\n",
      "Epoch 5/100\n",
      "57/57 [==============================] - 211s 4s/step - loss: 0.0151 - accuracy: 0.6711 - val_loss: 0.0150 - val_accuracy: 0.6667\n",
      "Epoch 6/100\n",
      "57/57 [==============================] - 211s 4s/step - loss: 0.0150 - accuracy: 0.6711 - val_loss: 0.0150 - val_accuracy: 0.6667\n",
      "Epoch 00006: early stopping\n",
      "| \u001b[0m 10      \u001b[0m | \u001b[0m 0.05482 \u001b[0m | \u001b[0m 2.218   \u001b[0m | \u001b[0m 0.3907  \u001b[0m | \u001b[0m 34.53   \u001b[0m | \u001b[0m 1.88    \u001b[0m |\n",
      "Epoch 1/100\n",
      "57/57 [==============================] - 210s 4s/step - loss: 0.0151 - accuracy: 0.6711 - val_loss: 0.0150 - val_accuracy: 0.6667\n",
      "Epoch 2/100\n",
      "57/57 [==============================] - 209s 4s/step - loss: 0.0151 - accuracy: 0.6711 - val_loss: 0.0150 - val_accuracy: 0.6667\n",
      "Epoch 3/100\n",
      "57/57 [==============================] - 209s 4s/step - loss: 0.0150 - accuracy: 0.6711 - val_loss: 0.0150 - val_accuracy: 0.6667\n",
      "Epoch 4/100\n",
      "57/57 [==============================] - 209s 4s/step - loss: 0.0151 - accuracy: 0.6711 - val_loss: 0.0150 - val_accuracy: 0.6667\n",
      "Epoch 5/100\n",
      "57/57 [==============================] - 209s 4s/step - loss: 0.0150 - accuracy: 0.6711 - val_loss: 0.0150 - val_accuracy: 0.6667\n",
      "Epoch 6/100\n",
      "57/57 [==============================] - 209s 4s/step - loss: 0.0150 - accuracy: 0.6711 - val_loss: 0.0150 - val_accuracy: 0.6667\n",
      "Epoch 00006: early stopping\n",
      "| \u001b[0m 11      \u001b[0m | \u001b[0m 0.05474 \u001b[0m | \u001b[0m 1.488   \u001b[0m | \u001b[0m 1.981   \u001b[0m | \u001b[0m 2.685   \u001b[0m | \u001b[0m 2.819   \u001b[0m |\n",
      "Epoch 1/100\n",
      "57/57 [==============================] - 209s 4s/step - loss: 0.0151 - accuracy: 0.6711 - val_loss: 0.0150 - val_accuracy: 0.6667\n",
      "Epoch 2/100\n",
      "57/57 [==============================] - 209s 4s/step - loss: 0.0151 - accuracy: 0.6711 - val_loss: 0.0150 - val_accuracy: 0.6667\n",
      "Epoch 3/100\n",
      "57/57 [==============================] - 209s 4s/step - loss: 0.0150 - accuracy: 0.6711 - val_loss: 0.0150 - val_accuracy: 0.6667\n",
      "Epoch 4/100\n",
      "57/57 [==============================] - 208s 4s/step - loss: 0.0150 - accuracy: 0.6711 - val_loss: 0.0150 - val_accuracy: 0.6667\n",
      "Epoch 5/100\n",
      "57/57 [==============================] - 209s 4s/step - loss: 0.0151 - accuracy: 0.6711 - val_loss: 0.0150 - val_accuracy: 0.6667\n",
      "Epoch 6/100\n",
      "57/57 [==============================] - 208s 4s/step - loss: 0.0150 - accuracy: 0.6711 - val_loss: 0.0150 - val_accuracy: 0.6667\n",
      "Epoch 00006: early stopping\n",
      "| \u001b[0m 12      \u001b[0m | \u001b[0m 0.05484 \u001b[0m | \u001b[0m 2.035   \u001b[0m | \u001b[0m 2.65    \u001b[0m | \u001b[0m 16.27   \u001b[0m | \u001b[0m 2.04    \u001b[0m |\n",
      "Epoch 1/100\n",
      "57/57 [==============================] - 208s 4s/step - loss: 0.0150 - accuracy: 0.6711 - val_loss: 0.0150 - val_accuracy: 0.6667\n",
      "Epoch 2/100\n",
      "57/57 [==============================] - 207s 4s/step - loss: 0.0151 - accuracy: 0.6711 - val_loss: 0.0150 - val_accuracy: 0.6667\n",
      "Epoch 3/100\n",
      "57/57 [==============================] - 207s 4s/step - loss: 0.0150 - accuracy: 0.6711 - val_loss: 0.0150 - val_accuracy: 0.6667\n",
      "Epoch 4/100\n",
      "57/57 [==============================] - 207s 4s/step - loss: 0.0150 - accuracy: 0.6711 - val_loss: 0.0150 - val_accuracy: 0.6667\n",
      "Epoch 5/100\n",
      "57/57 [==============================] - 207s 4s/step - loss: 0.0150 - accuracy: 0.6711 - val_loss: 0.0150 - val_accuracy: 0.6667\n",
      "Epoch 6/100\n",
      "57/57 [==============================] - 207s 4s/step - loss: 0.0151 - accuracy: 0.6711 - val_loss: 0.0150 - val_accuracy: 0.6667\n",
      "Epoch 00006: early stopping\n",
      "| \u001b[95m 13      \u001b[0m | \u001b[95m 0.05498 \u001b[0m | \u001b[95m 2.453   \u001b[0m | \u001b[95m 0.2091  \u001b[0m | \u001b[95m 34.59   \u001b[0m | \u001b[95m 1.872   \u001b[0m |\n",
      "Epoch 1/100\n",
      "57/57 [==============================] - 207s 4s/step - loss: 0.0150 - accuracy: 0.6711 - val_loss: 0.0150 - val_accuracy: 0.6667\n",
      "Epoch 2/100\n",
      "57/57 [==============================] - 207s 4s/step - loss: 0.0150 - accuracy: 0.6711 - val_loss: 0.0150 - val_accuracy: 0.6667\n",
      "Epoch 3/100\n",
      "57/57 [==============================] - 208s 4s/step - loss: 0.0150 - accuracy: 0.6711 - val_loss: 0.0150 - val_accuracy: 0.6667\n",
      "Epoch 4/100\n",
      "57/57 [==============================] - 206s 4s/step - loss: 0.0150 - accuracy: 0.6711 - val_loss: 0.0150 - val_accuracy: 0.6667\n",
      "Epoch 5/100\n",
      "57/57 [==============================] - 207s 4s/step - loss: 0.0150 - accuracy: 0.6711 - val_loss: 0.0150 - val_accuracy: 0.6667\n",
      "Epoch 6/100\n",
      "57/57 [==============================] - 206s 4s/step - loss: 0.0150 - accuracy: 0.6711 - val_loss: 0.0150 - val_accuracy: 0.6667\n",
      "Epoch 00006: early stopping\n",
      "| \u001b[95m 14      \u001b[0m | \u001b[95m 0.05506 \u001b[0m | \u001b[95m 2.942   \u001b[0m | \u001b[95m 0.0     \u001b[0m | \u001b[95m 34.44   \u001b[0m | \u001b[95m 2.245   \u001b[0m |\n",
      "Epoch 1/100\n",
      "57/57 [==============================] - 206s 4s/step - loss: 0.0150 - accuracy: 0.6711 - val_loss: 0.0150 - val_accuracy: 0.6667\n",
      "Epoch 2/100\n",
      "57/57 [==============================] - 206s 4s/step - loss: 0.0150 - accuracy: 0.6711 - val_loss: 0.0150 - val_accuracy: 0.6667\n",
      "Epoch 3/100\n",
      "57/57 [==============================] - 206s 4s/step - loss: 0.0150 - accuracy: 0.6711 - val_loss: 0.0150 - val_accuracy: 0.6667\n",
      "Epoch 4/100\n",
      "57/57 [==============================] - 205s 4s/step - loss: 0.0151 - accuracy: 0.6711 - val_loss: 0.0150 - val_accuracy: 0.6667\n",
      "Epoch 5/100\n",
      "57/57 [==============================] - 205s 4s/step - loss: 0.0150 - accuracy: 0.6711 - val_loss: 0.0150 - val_accuracy: 0.6667\n",
      "Epoch 6/100\n",
      "57/57 [==============================] - 205s 4s/step - loss: 0.0151 - accuracy: 0.6711 - val_loss: 0.0150 - val_accuracy: 0.6667\n",
      "Epoch 00006: early stopping\n",
      "| \u001b[95m 15      \u001b[0m | \u001b[95m 0.05526 \u001b[0m | \u001b[95m 3.573   \u001b[0m | \u001b[95m 0.1856  \u001b[0m | \u001b[95m 35.23   \u001b[0m | \u001b[95m 1.639   \u001b[0m |\n",
      "Epoch 1/100\n",
      "57/57 [==============================] - 206s 4s/step - loss: 0.0150 - accuracy: 0.6711 - val_loss: 0.0150 - val_accuracy: 0.6667\n",
      "Epoch 2/100\n",
      "57/57 [==============================] - 205s 4s/step - loss: 0.0151 - accuracy: 0.6711 - val_loss: 0.0150 - val_accuracy: 0.6667\n",
      "Epoch 3/100\n",
      "57/57 [==============================] - 205s 4s/step - loss: 0.0150 - accuracy: 0.6711 - val_loss: 0.0150 - val_accuracy: 0.6667\n",
      "Epoch 4/100\n",
      "57/57 [==============================] - 205s 4s/step - loss: 0.0150 - accuracy: 0.6711 - val_loss: 0.0150 - val_accuracy: 0.6667\n",
      "Epoch 5/100\n",
      "57/57 [==============================] - 204s 4s/step - loss: 0.0150 - accuracy: 0.6711 - val_loss: 0.0150 - val_accuracy: 0.6667\n",
      "Epoch 6/100\n",
      "57/57 [==============================] - 204s 4s/step - loss: 0.0151 - accuracy: 0.6711 - val_loss: 0.0150 - val_accuracy: 0.6667\n",
      "Epoch 00006: early stopping\n",
      "| \u001b[95m 16      \u001b[0m | \u001b[95m 0.05534 \u001b[0m | \u001b[95m 3.672   \u001b[0m | \u001b[95m 0.0     \u001b[0m | \u001b[95m 34.32   \u001b[0m | \u001b[95m 1.0     \u001b[0m |\n",
      "Epoch 1/100\n",
      "57/57 [==============================] - 204s 4s/step - loss: 0.0150 - accuracy: 0.6711 - val_loss: 0.0150 - val_accuracy: 0.6667\n",
      "Epoch 2/100\n",
      "57/57 [==============================] - 204s 4s/step - loss: 0.0150 - accuracy: 0.6711 - val_loss: 0.0150 - val_accuracy: 0.6667\n",
      "Epoch 3/100\n",
      "57/57 [==============================] - 204s 4s/step - loss: 0.0150 - accuracy: 0.6711 - val_loss: 0.0150 - val_accuracy: 0.6667\n",
      "Epoch 4/100\n",
      "57/57 [==============================] - 204s 4s/step - loss: 0.0150 - accuracy: 0.6711 - val_loss: 0.0150 - val_accuracy: 0.6667\n",
      "Epoch 5/100\n",
      "57/57 [==============================] - 204s 4s/step - loss: 0.0150 - accuracy: 0.6711 - val_loss: 0.0150 - val_accuracy: 0.6667\n",
      "Epoch 6/100\n",
      "57/57 [==============================] - 204s 4s/step - loss: 0.0150 - accuracy: 0.6711 - val_loss: 0.0150 - val_accuracy: 0.6667\n",
      "Epoch 00006: early stopping\n",
      "| \u001b[95m 17      \u001b[0m | \u001b[95m 0.05536 \u001b[0m | \u001b[95m 4.987   \u001b[0m | \u001b[95m 0.0214  \u001b[0m | \u001b[95m 34.07   \u001b[0m | \u001b[95m 1.956   \u001b[0m |\n",
      "Epoch 1/100\n",
      "57/57 [==============================] - 204s 4s/step - loss: 0.0150 - accuracy: 0.6711 - val_loss: 0.0150 - val_accuracy: 0.6667\n",
      "Epoch 2/100\n",
      "57/57 [==============================] - 205s 4s/step - loss: 0.0150 - accuracy: 0.6711 - val_loss: 0.0150 - val_accuracy: 0.6667\n",
      "Epoch 3/100\n",
      "57/57 [==============================] - 203s 4s/step - loss: 0.0150 - accuracy: 0.6711 - val_loss: 0.0150 - val_accuracy: 0.6667\n",
      "Epoch 4/100\n",
      "57/57 [==============================] - 204s 4s/step - loss: 0.0150 - accuracy: 0.6711 - val_loss: 0.0150 - val_accuracy: 0.6667\n",
      "Epoch 5/100\n",
      "57/57 [==============================] - 203s 4s/step - loss: 0.0151 - accuracy: 0.6711 - val_loss: 0.0150 - val_accuracy: 0.6667\n",
      "Epoch 6/100\n",
      "57/57 [==============================] - 203s 4s/step - loss: 0.0151 - accuracy: 0.6711 - val_loss: 0.0150 - val_accuracy: 0.6667\n",
      "Epoch 00006: early stopping\n",
      "| \u001b[95m 18      \u001b[0m | \u001b[95m 0.05537 \u001b[0m | \u001b[95m 4.646   \u001b[0m | \u001b[95m 1.431   \u001b[0m | \u001b[95m 34.25   \u001b[0m | \u001b[95m 1.038   \u001b[0m |\n",
      "Epoch 1/100\n",
      "57/57 [==============================] - 204s 4s/step - loss: 0.0150 - accuracy: 0.6711 - val_loss: 0.0150 - val_accuracy: 0.6667\n",
      "Epoch 2/100\n",
      "57/57 [==============================] - 203s 4s/step - loss: 0.0150 - accuracy: 0.6711 - val_loss: 0.0150 - val_accuracy: 0.6667\n",
      "Epoch 3/100\n",
      "57/57 [==============================] - 203s 4s/step - loss: 0.0150 - accuracy: 0.6711 - val_loss: 0.0150 - val_accuracy: 0.6667\n",
      "Epoch 4/100\n",
      "57/57 [==============================] - 203s 4s/step - loss: 0.0151 - accuracy: 0.6711 - val_loss: 0.0150 - val_accuracy: 0.6667\n",
      "Epoch 5/100\n",
      "57/57 [==============================] - 204s 4s/step - loss: 0.0150 - accuracy: 0.6711 - val_loss: 0.0150 - val_accuracy: 0.6667\n",
      "Epoch 6/100\n",
      "57/57 [==============================] - 204s 4s/step - loss: 0.0150 - accuracy: 0.6711 - val_loss: 0.0150 - val_accuracy: 0.6667\n",
      "Epoch 00006: early stopping\n",
      "| \u001b[95m 19      \u001b[0m | \u001b[95m 0.05561 \u001b[0m | \u001b[95m 5.0     \u001b[0m | \u001b[95m 0.9348  \u001b[0m | \u001b[95m 32.69   \u001b[0m | \u001b[95m 1.0     \u001b[0m |\n",
      "Epoch 1/100\n",
      "57/57 [==============================] - 204s 4s/step - loss: 0.0151 - accuracy: 0.6711 - val_loss: 0.0150 - val_accuracy: 0.6667\n",
      "Epoch 2/100\n",
      "57/57 [==============================] - 204s 4s/step - loss: 0.0150 - accuracy: 0.6711 - val_loss: 0.0150 - val_accuracy: 0.6667\n",
      "Epoch 3/100\n",
      "57/57 [==============================] - 204s 4s/step - loss: 0.0150 - accuracy: 0.6711 - val_loss: 0.0150 - val_accuracy: 0.6667\n",
      "Epoch 4/100\n",
      "57/57 [==============================] - 204s 4s/step - loss: 0.0150 - accuracy: 0.6711 - val_loss: 0.0150 - val_accuracy: 0.6667\n",
      "Epoch 5/100\n",
      "57/57 [==============================] - 203s 4s/step - loss: 0.0150 - accuracy: 0.6711 - val_loss: 0.0150 - val_accuracy: 0.6667\n",
      "Epoch 6/100\n",
      "57/57 [==============================] - 203s 4s/step - loss: 0.0150 - accuracy: 0.6711 - val_loss: 0.0150 - val_accuracy: 0.6667\n",
      "Epoch 00006: early stopping\n",
      "| \u001b[95m 20      \u001b[0m | \u001b[95m 0.05565 \u001b[0m | \u001b[95m 4.943   \u001b[0m | \u001b[95m 2.558   \u001b[0m | \u001b[95m 32.3    \u001b[0m | \u001b[95m 1.955   \u001b[0m |\n",
      "=========================================================================\n"
     ]
    },
    {
     "data": {
      "text/plain": [
       "{'target': 0.055646516382694244,\n",
       " 'params': {'kernels': 4.942993803924221,\n",
       "  'layers': 2.55841474322518,\n",
       "  'neurons': 32.29901153587193,\n",
       "  'shrink': 1.9550955943743022}}"
      ]
     },
     "execution_count": 27,
     "metadata": {},
     "output_type": "execute_result"
    }
   ],
   "source": [
    "pbounds = { 'layers': ( 0, 4 ), # number of \"return_sequences=True\" ConvLSTM layers\n",
    "            'neurons': ( 1, 50 ), # all layers have this number of neurons (at present)\n",
    "            'kernels': ( 1, 5 ), # int( kernel ) *2 +1 - odd numbers 3, 5, 7, 9, &c.\n",
    "            'shrink': (1, 3)\n",
    "          }\n",
    "optimizer = BayesianOptimization(\n",
    "                            f=modeltests,\n",
    "                            pbounds=pbounds,\n",
    "                            verbose=10,\n",
    "                            random_state=42\n",
    "                            )\n",
    "optimizer.maximize( init_points=12, n_iter=8 )\n",
    "optimizer.max"
   ]
  },
  {
   "cell_type": "code",
   "execution_count": null,
   "metadata": {
    "id": "z-UihN_Y3731"
   },
   "outputs": [],
   "source": [
    "def printModel( model, filename ):\n",
    "    try:\n",
    "        print( model.summary())\n",
    "            plot_model( model, to_file=filename, show_shapes=True )\n",
    "    except ValueError as ex:\n",
    "        print( '\\nUnable to print model summary:{}\\n'.format( ex ))\n",
    "        return\n",
    "    except ImportError as ex:\n",
    "        print( '\\nUnable  to print model:{}\\n'.format( ex ))"
   ]
  },
  {
   "cell_type": "code",
   "execution_count": null,
   "metadata": {
    "colab": {
     "base_uri": "https://localhost:8080/"
    },
    "executionInfo": {
     "elapsed": 1324,
     "status": "ok",
     "timestamp": 1611699405716,
     "user": {
      "displayName": "Jay Wang",
      "photoUrl": "",
      "userId": "08806282010227278078"
     },
     "user_tz": -780
    },
    "id": "tEfqJf4yvjD1",
    "outputId": "f451ba9c-88b1-4c61-b656-bbe7e78b2d24"
   },
   "outputs": [
    {
     "name": "stdout",
     "output_type": "stream",
     "text": [
      "Model: \"sequential_9\"\n",
      "_________________________________________________________________\n",
      "Layer (type)                 Output Shape              Param #   \n",
      "=================================================================\n",
      "base (ConvLSTM2D)            (None, 10, 50, 50, 32)    363008    \n",
      "_________________________________________________________________\n",
      "max_pooling3d_30 (MaxPooling (None, 10, 25, 25, 32)    0         \n",
      "_________________________________________________________________\n",
      "myThing0 (ConvLSTM2D)        (None, 10, 25, 25, 2)     22040     \n",
      "_________________________________________________________________\n",
      "max_pooling3d_31 (MaxPooling (None, 10, 12, 12, 2)     0         \n",
      "_________________________________________________________________\n",
      "myThing1 (ConvLSTM2D)        (None, 10, 12, 12, 2)     2600      \n",
      "_________________________________________________________________\n",
      "max_pooling3d_32 (MaxPooling (None, 10, 6, 6, 2)       0         \n",
      "_________________________________________________________________\n",
      "conv_lst_m2d_43 (ConvLSTM2D) (None, 6, 6, 2)           2600      \n",
      "_________________________________________________________________\n",
      "max_pooling2d_9 (MaxPooling2 (None, 6, 3, 2)           0         \n",
      "_________________________________________________________________\n",
      "dense_24 (Dense)             (None, 6, 3, 320)         960       \n",
      "_________________________________________________________________\n",
      "activation_8 (Activation)    (None, 6, 3, 320)         0         \n",
      "_________________________________________________________________\n",
      "dropout_8 (Dropout)          (None, 6, 3, 320)         0         \n",
      "_________________________________________________________________\n",
      "dense_25 (Dense)             (None, 6, 3, 1)           321       \n",
      "=================================================================\n",
      "Total params: 391,529\n",
      "Trainable params: 391,529\n",
      "Non-trainable params: 0\n",
      "_________________________________________________________________\n",
      "None\n"
     ]
    }
   ],
   "source": [
    "printModel(model, 'fred.png')"
   ]
  }
 ],
 "metadata": {
  "accelerator": "GPU",
  "colab": {
   "authorship_tag": "ABX9TyMP14TuA3zuMJOEM6YDhRpc",
   "collapsed_sections": [],
   "name": "TECAnomaly.ipynb",
   "provenance": [
    {
     "file_id": "10L-pPvhnX68gN81heSp8AUqXlWpCyWbE",
     "timestamp": 1611030999427
    }
   ]
  },
  "kernelspec": {
   "display_name": "Python 3",
   "language": "python",
   "name": "python3"
  },
  "language_info": {
   "codemirror_mode": {
    "name": "ipython",
    "version": 3
   },
   "file_extension": ".py",
   "mimetype": "text/x-python",
   "name": "python",
   "nbconvert_exporter": "python",
   "pygments_lexer": "ipython3",
   "version": "3.8.5"
  }
 },
 "nbformat": 4,
 "nbformat_minor": 1
}
